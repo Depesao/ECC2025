{
  "cells": [
    {
      "cell_type": "code",
      "execution_count": null,
      "metadata": {
        "collapsed": true,
        "id": "gu5LWp4gjx9y"
      },
      "outputs": [],
      "source": [
        "pip install git+https://github.com/MIROptics/ECC2025.git"
      ]
    },
    {
      "cell_type": "code",
      "execution_count": null,
      "metadata": {
        "id": "LLwdjhxMzV_F"
      },
      "outputs": [],
      "source": [
        "import numpy as np\n",
        "import matplotlib.pyplot as plt\n",
        "from qiskit.quantum_info import SparsePauliOp, Statevector, \\\n",
        "                                Operator, process_fidelity\n",
        "from qiskit.circuit import Parameter\n",
        "from qiskit import QuantumCircuit, QuantumRegister, ClassicalRegister\n",
        "from scipy.linalg import expm"
      ]
    },
    {
      "cell_type": "markdown",
      "metadata": {
        "id": "meHICGYJzV_H"
      },
      "source": [
        "# Simulación cuántica\n",
        "\n",
        "La simulación de sistemas físicos es una tarea computacional importante con muchas aplicaciones. El núcleo de la simulación de sistemás físicos es resolver las ecuaciones diferenciales que capturan las leyes que gobiernan la dinámica del sistema. En el caso de los sistemas cuánticos, estos son gobernados por la ecuación de Schrödinger\n",
        "\n",
        "$$ i\\frac{d}{dt}|\\psi\\rangle = H |\\psi\\rangle, $$\n",
        "\n",
        "donde $H$ es el Hamiltoniano del sistema. Resolver esta ecuación con medios clásicos es posible. Sin embargo, esto es generalmente ineficiente porque la dimensión del espacio de estados crece exponencial con el número de qubits, es decir, tenemos una cantidad exponencial de ecuaciones diferenciales por resolver.\n",
        "\n",
        "Los computadores cuánticos, los cuales naturalmente evolucionan de acuerdo a la ecuación de Schrödinger, prometen simular eficientemente sistemas cuánticos intratables clásicamente. El propio Richard Feymann, premio nobel en física, proyectaba esta aplicación:\n",
        "\n",
        "\"Nature isn't classical, dammit, and if you want to make a simulation of nature, you'd better make it quantum mechanical, and by golly it's a wonderful problem, because it doesn't look so easy.\"\n",
        "\n",
        "En este taller veremos como simular la conductividad de electrones en un material sólido a través del modelo \"tight-binding\" tanto clásicamente como cuánticamente. Particularmente, el algoritmo de simulación cuántica que utilizaremos será la fórmula de Trotter."
      ]
    },
    {
      "cell_type": "markdown",
      "metadata": {
        "id": "-J9cp1bOzV_J"
      },
      "source": [
        "## Modelo \"tight-binding\"\n",
        "\n",
        "El modelo tight-binding describre el transporte de electrones a través de un material sólido. En este cada átomo es tratado como un qubit, mientras que los electrones ocupan estos qubits y pueden saltar entre ellos. Por ejemplo, consideremos 7 átomos con 1 electrón de conducción, el estado\n",
        "\n",
        "$$ |1\\rangle_6|0\\rangle_5|0\\rangle_4|0\\rangle_3|0\\rangle_2|0\\rangle_1|0\\rangle_0,$$\n",
        "\n",
        "representa un electrón en el átomo 7. El Hamiltoniano que describe este modelo es,\n",
        "\n",
        "$$ H = \\sum_{j} \\epsilon_j Z_j + J \\sum_{j}( X_jX_{j+1} + Y_jY_{j+1} ).$$\n",
        "\n",
        "El primer término describe la energía de cada átomo, mientras que el segundo describe la interacción entre átomos vecinos y el salto de los electrones.\n",
        "\n",
        "<img src=\"https://raw.githubusercontent.com/MIROptics/ECC2025/refs/heads/master/talleres/04_Simulacion_Cuantica_de_Localizacion_de_Anderson/img/ecc24_trotter_1.jpg\"\n",
        "     align=\"left\"\n",
        "     width=\"500\"/>"
      ]
    },
    {
      "cell_type": "markdown",
      "metadata": {
        "id": "wd9yiug0zV_J"
      },
      "source": [
        "### Simulación clásica\n",
        "\n",
        "La solución de la ecuación de Schrödinger cuando el Hamiltoniano es independiente del tiempo es dada por\n",
        "\n",
        "$$ | \\psi(t)\\rangle = U(t)| \\psi(0)\\rangle, $$\n",
        "\n",
        "donde\n",
        "\n",
        "$$U(t)=e^{-iHt},$$\n",
        "\n",
        "es el operador de evolución. [Notemos que esta exponencial actúa sobre el espectro de $H$ y no sobre cada uno de los elementos de $H$](https://en.wikipedia.org/wiki/Matrix_exponential). La simulación clásica del modelo tight binding consiste en calcular numéricamente el operador de evolución $U(t)$. Por simplicidad supondremos que $\\epsilon_j=0$ para todo átomo y $J = 1$.\n",
        "\n",
        "$$ H = \\sum_{j}( X_jX_{j+1} + Y_jY_{j+1} ).$$"
      ]
    },
    {
      "cell_type": "code",
      "execution_count": null,
      "metadata": {
        "id": "KNR2RITzzV_K"
      },
      "outputs": [],
      "source": [
        "# Primero definimos los operadores de Pauli\n",
        "I = SparsePauliOp.from_list([('I', 1)])\n",
        "X = SparsePauliOp.from_list([('X', 1)])\n",
        "Y = SparsePauliOp.from_list([('Y', 1)])\n",
        "Z = SparsePauliOp.from_list([('Z', 1)])"
      ]
    },
    {
      "cell_type": "code",
      "execution_count": null,
      "metadata": {
        "id": "OtVrGFq0zV_L"
      },
      "outputs": [],
      "source": [
        "# Definimos el número de qubits\n",
        "num_qubits = 7"
      ]
    },
    {
      "cell_type": "code",
      "execution_count": null,
      "metadata": {
        "collapsed": true,
        "id": "7ciOIV-XzV_M"
      },
      "outputs": [],
      "source": [
        "# Construimos el Hamiltoniano\n",
        "def H_tb():\n",
        "    op_list = []\n",
        "    for k in range(num_qubits-1):\n",
        "        XX      = num_qubits * ['I']\n",
        "        XX[k]   = 'X'\n",
        "        XX[k+1] = 'X'\n",
        "        XX      = \"\".join(XX)\n",
        "\n",
        "        YY      = num_qubits * ['I']\n",
        "        YY[k]   = 'Y'\n",
        "        YY[k+1] = 'Y'\n",
        "        YY      = \"\".join(YY)\n",
        "\n",
        "        op_list.append((XX,1))\n",
        "        op_list.append((YY,1))\n",
        "    H = SparsePauliOp.from_list(op_list)\n",
        "    return H"
      ]
    },
    {
      "cell_type": "code",
      "execution_count": null,
      "metadata": {
        "id": "2Az0xwNlzV_M"
      },
      "outputs": [],
      "source": [
        "# Imprimamos el Hamiltoniano\n",
        "H_tb()"
      ]
    },
    {
      "cell_type": "code",
      "execution_count": null,
      "metadata": {
        "id": "hbMi378bzV_N"
      },
      "outputs": [],
      "source": [
        "# Operador de evolución\n",
        "def U_tb(t):\n",
        "    H = H_tb().to_matrix()\n",
        "    return expm(-1j*H*t)"
      ]
    },
    {
      "cell_type": "code",
      "execution_count": null,
      "metadata": {
        "id": "b2yI3-xJzV_P"
      },
      "outputs": [],
      "source": [
        "# Imprimamos el operador de evolución\n",
        "U_tb(0)"
      ]
    },
    {
      "cell_type": "markdown",
      "metadata": {
        "id": "l8MpL6p5zV_P"
      },
      "source": [
        "Consideremos como estado inicial un electrón en el primer átomo de la izquierda, es decir\n",
        "\n",
        "$$|\\psi(0)\\rangle = |1\\rangle|0\\rangle|0\\rangle|0\\rangle|0\\rangle|0\\rangle|0\\rangle. $$"
      ]
    },
    {
      "cell_type": "code",
      "execution_count": null,
      "metadata": {
        "id": "nAQiSU73zV_Q"
      },
      "outputs": [],
      "source": [
        "ket0 = Statevector([1,0])\n",
        "ket1 = Statevector([0,1])\n",
        "state_in = eval('ket1'+(num_qubits-1)*'^ket0')\n",
        "# print( 'ket1'+(num_qubits-1)*'^ket0' )\n",
        "state_in"
      ]
    },
    {
      "cell_type": "markdown",
      "metadata": {
        "id": "rGdoBR0wzV_Q"
      },
      "source": [
        "Ahora calculamos la evolución hasta $t=3$ y graficamos la probabilidad de que el electrón esté en cada átomo en función del tiempo."
      ]
    },
    {
      "cell_type": "code",
      "execution_count": null,
      "metadata": {
        "id": "M_oECMdDzV_Q"
      },
      "outputs": [],
      "source": [
        "times = np.linspace(0, 3, 31)\n",
        "probs_out = np.array([ np.abs(U_tb(t) @ state_in.__array__())**2 for t in times ])"
      ]
    },
    {
      "cell_type": "code",
      "execution_count": null,
      "metadata": {
        "id": "XYkFW_PTzV_R"
      },
      "outputs": [],
      "source": [
        "plt.figure(figsize=(3,5), facecolor='white')\n",
        "plt.pcolormesh(np.linspace(0,num_qubits-1,num_qubits),\n",
        "               times,\n",
        "               probs_out[:, 2**np.arange(num_qubits)])\n",
        "\n",
        "plt.colorbar()\n",
        "plt.xlim(6.5, -0.5)\n",
        "plt.xlabel('Qubit')\n",
        "plt.ylabel('Tiempo')"
      ]
    },
    {
      "cell_type": "markdown",
      "metadata": {
        "id": "9cJufSyrzV_R"
      },
      "source": [
        "Vemos que el electrón parte en el átomo de la izquierda, y luego salta a los átomos vecinos hasta llegar al de la derecha. Posteriormente el electrón es reflejado y vuelve al átomo de la izquierda."
      ]
    },
    {
      "cell_type": "markdown",
      "metadata": {
        "id": "IMoh3aVjzV_R"
      },
      "source": [
        "### Simulación Cuántica\n",
        "\n",
        "Podemos simular la dinámica de un sistema cuántico en un computador cuántico mediante la fórmula de Trotter. Esta está dada por\n",
        "\n",
        "$$ e^{A+B} = \\lim_{m \\rightarrow \\infty} \\left( e^{A/m} e^{B/m}  \\right)^m, $$\n",
        "\n",
        "donde $A$ y $B$ son operadores. Podemos pensar que esta es la versión cuántica de la relación clásica $e^{a+b}=e^a e^b$, con $a,b\\in\\mathbb{C}$. Consideremos el Hamiltoniano  $H=\\sum_j H_j$ de $n$ qubits, con $H_j$ operadores que no involucran todos los qubits,\n",
        "\n",
        "$$ H_{j} = X_jX_{j+1} + Y_jY_{j+1},$$\n",
        "\n",
        "donde usaremos $J=1$. Además, su correspondiente operador de evolución es $U(t)= e^{ -it\\sum_j H_j }$. La fórmula de Trotter nos permite approximar esta evolución hasta orden $m$ por\n",
        "\n",
        "$$ U(t) \\approx \\left( \\prod_{j} e^{-itH_j/m}  \\right)^m .$$\n",
        "\n",
        "Para el caso del modelo tight binding, si redefinimos\n",
        "\n",
        "$$ H_{2j} = X_jX_{j+1}, \\qquad H_{2j+1} = Y_jY_{j+1}, $$\n",
        "\n",
        "entonces el operador de evolución puede ser aproximado mediante\n",
        "\n",
        "\\begin{align*}\n",
        "U(t) &\\approx \\left(  e^{-itH_0/m}e^{-itH_{1}/m}\\cdots e^{-itH_{2(n-2)}/m}e^{-itH_{2(n-2)+1}/m} \\right)^m\\\\\n",
        "&= \\left(  e^{-itX_0X_{1}/m}e^{-itY_0Y_{1}/m}\\cdots e^{-itX_{n-2}X_{n-1}/m}e^{-itY_{n-2}Y_{n-1}/m} \\right)^m.\n",
        "\\end{align*}\n",
        "\n",
        "Así, necesitamos construir circuitos que implementen las puertas\n",
        "\n",
        "$$ XX_j(t) = e^{ -itX_jX_{j+1} }, \\qquad YY_j(t) = e^{ -itY_jY_{j+1} }. $$\n",
        "\n",
        "Estas puertas pueden ser aplicadas utilizando la compuerta ZZ y transformaciones de esta.\n",
        "\n"
      ]
    },
    {
      "cell_type": "code",
      "execution_count": null,
      "metadata": {
        "id": "WGCmJ41HzV_R"
      },
      "outputs": [],
      "source": [
        "# Definimos el parámetro t\n",
        "t = Parameter('t')"
      ]
    },
    {
      "cell_type": "markdown",
      "metadata": {
        "id": "Xe-OHhibzV_R"
      },
      "source": [
        "Puerta ZZ:"
      ]
    },
    {
      "cell_type": "markdown",
      "metadata": {
        "id": "xpBBZvoKzV_R"
      },
      "source": [
        "![gate_ZZ](https://raw.githubusercontent.com/MIROptics/ECC2025/refs/heads/master/talleres/04_Simulacion_Cuantica_de_Localizacion_de_Anderson/img/gate_ZZ.png)"
      ]
    },
    {
      "cell_type": "markdown",
      "metadata": {
        "id": "OFvlI0eH2LYc"
      },
      "source": [
        "[Compuerta RZ](https://docs.quantum.ibm.com/api/qiskit/qiskit.circuit.library.RZGate)"
      ]
    },
    {
      "cell_type": "code",
      "execution_count": null,
      "metadata": {
        "id": "a84K0vwCzV_R"
      },
      "outputs": [],
      "source": [
        "# Construimos el circuito ZZ(t)\n",
        "ZZ_qr = QuantumRegister(2)\n",
        "ZZ_qc = QuantumCircuit(ZZ_qr, name='ZZ')\n",
        "\n",
        "### EDITAR BAJO ESTA LINEA (agregar compuertas)\n",
        "\n",
        "\n",
        "\n",
        "### NO EDITAR BAJO ESTA LINEA\n",
        "\n",
        "# Convertimos nuestro circuito en una puerta\n",
        "ZZ = ZZ_qc.to_instruction()\n",
        "\n",
        "ZZ_qc.draw('mpl')"
      ]
    },
    {
      "cell_type": "markdown",
      "metadata": {
        "id": "EAdkLGFMzV_S"
      },
      "source": [
        "Puerta XX:"
      ]
    },
    {
      "cell_type": "markdown",
      "metadata": {
        "id": "20tUL57VzV_S"
      },
      "source": [
        "![gate_XX](https://raw.githubusercontent.com/MIROptics/ECC2025/refs/heads/master/talleres/04_Simulacion_Cuantica_de_Localizacion_de_Anderson/img/gate_XX.png)"
      ]
    },
    {
      "cell_type": "code",
      "execution_count": null,
      "metadata": {
        "id": "PiKMbrYHzV_S"
      },
      "outputs": [],
      "source": [
        "# Construimos la puerta XX(t) a partir de ZZ(t)\n",
        "XX_qr = QuantumRegister(2)\n",
        "XX_qc = QuantumCircuit(XX_qr, name='XX')\n",
        "\n",
        "### EDITAR BAJO ESTA LINEA (agregar compuerta)\n",
        "\n",
        "\n",
        "\n",
        "### NO EDITAR BAJO ESTA LINEA\n",
        "\n",
        "# Convertimos nuestro circuito en una puerta\n",
        "XX = XX_qc.to_instruction()\n",
        "\n",
        "XX_qc.draw('mpl')"
      ]
    },
    {
      "cell_type": "markdown",
      "metadata": {
        "id": "I__dB2xFzV_T"
      },
      "source": [
        "PUERTA YY:"
      ]
    },
    {
      "cell_type": "markdown",
      "metadata": {
        "id": "yILdBVuDzV_T"
      },
      "source": [
        "![gate_YY](https://raw.githubusercontent.com/MIROptics/ECC2025/refs/heads/master/talleres/04_Simulacion_Cuantica_de_Localizacion_de_Anderson/img/gate_YY.png)"
      ]
    },
    {
      "cell_type": "markdown",
      "metadata": {
        "id": "xP1UScfxzV_T"
      },
      "source": [
        "HINT: Puertas .s() y .sgd()"
      ]
    },
    {
      "cell_type": "code",
      "execution_count": null,
      "metadata": {
        "id": "NUdCgiKBzV_T"
      },
      "outputs": [],
      "source": [
        "# Construimos la puerta YY(t) a partir de ZZ(t)\n",
        "YY_qr = QuantumRegister(2)\n",
        "YY_qc = QuantumCircuit(YY_qr, name='YY')\n",
        "\n",
        "### EDITAR BAJO ESTA LINEA (agregar compuertas)\n",
        "\n",
        "\n",
        "\n",
        "### NO EDITAR BAJO ESTA LINEA\n",
        "\n",
        "# Convertir el circuito cuantico en una puerta\n",
        "YY = YY_qc.to_instruction()\n",
        "\n",
        "YY_qc.draw('mpl')"
      ]
    },
    {
      "cell_type": "markdown",
      "metadata": {
        "id": "D2G_wqnmzV_U"
      },
      "source": [
        "Ahora construimos el paso de Trotter\n",
        "\n",
        "$$ U_{step}(t) = e^{-itX_0X_{1}/m}e^{-itY_0Y_{1}/m}\\cdots e^{-itX_{n-2}X_{n-1}/m}e^{-itY_{n-2}Y_{n-1}/m} $$"
      ]
    },
    {
      "cell_type": "code",
      "execution_count": null,
      "metadata": {
        "id": "cjAacMYpzV_U"
      },
      "outputs": [],
      "source": [
        "Trot_tb_qr = QuantumRegister(num_qubits, 'q')\n",
        "Trot_tb_qc = QuantumCircuit(Trot_tb_qr, name='Trot')\n",
        "\n",
        "for j in range(num_qubits-1):\n",
        "\n",
        "### EDITAR BAJO ESTA LINEA\n",
        "\n",
        "\n",
        "\n",
        "### NO EDITAR BAJO ESTA LINEA\n",
        "\n",
        "Trot_tb_gate = Trot_tb_qc.to_instruction()\n",
        "Trot_tb_qc.draw('mpl')"
      ]
    },
    {
      "cell_type": "markdown",
      "metadata": {
        "id": "aPlmUYorzV_U"
      },
      "source": [
        "Construimos la approximación de Trotter,\n",
        "$$ U(t)\\approx \\left[ U_{step}(t) \\right]^m $$"
      ]
    },
    {
      "cell_type": "code",
      "execution_count": null,
      "metadata": {
        "id": "nCAoXCzMzV_U"
      },
      "outputs": [],
      "source": [
        "def U_trotterize(delta_t, trotter_steps):\n",
        "    qr = QuantumRegister(num_qubits)\n",
        "    qc = QuantumCircuit(qr)\n",
        "\n",
        "    ### EDITAR BAJO ESTA LINEA (Crear el circuito trotterizado con varios pasos de trotter)\n",
        "\n",
        "\n",
        "\n",
        "    ### NO EDITAR BAJO ESTA LINEA\n",
        "\n",
        "    qc = qc.assign_parameters({t: delta_t})\n",
        "    return qc"
      ]
    },
    {
      "cell_type": "code",
      "execution_count": null,
      "metadata": {
        "id": "quJA3IUCzV_U"
      },
      "outputs": [],
      "source": [
        "qc = U_trotterize(0.1, 3)\n",
        "qc.decompose(reps=1).draw('mpl')"
      ]
    },
    {
      "cell_type": "markdown",
      "metadata": {
        "id": "k6C00MQbzV_V"
      },
      "source": [
        "Simulamos la dinámica hasta $t=3$."
      ]
    },
    {
      "cell_type": "code",
      "execution_count": null,
      "metadata": {
        "id": "JQ5yZ-SPzV_V"
      },
      "outputs": [],
      "source": [
        "delta_t = 0.15                   # NO EDITAR dt = t/m\n",
        "time_steps = np.arange(1, 21, 1) # NO EDITAR\n",
        "circuits = []\n",
        "\n",
        "for n_steps in time_steps:\n",
        "    qr = QuantumRegister(num_qubits)\n",
        "    cr = ClassicalRegister(num_qubits)\n",
        "    qc = QuantumCircuit(qr, cr)\n",
        "\n",
        "    ### EDITAR BAJO ESTA LINEA (iniciar electron, agregar circuito trotter, medir)\n",
        "\n",
        "\n",
        "\n",
        "    ### NO EDITAR BAJO ESTA LINEA\n",
        "\n",
        "    circuits.append(qc)\n",
        "\n",
        "qc.draw('mpl')"
      ]
    },
    {
      "cell_type": "code",
      "execution_count": null,
      "metadata": {
        "id": "o22Csb1SzV_V"
      },
      "outputs": [],
      "source": [
        "from qiskit.primitives import Sampler\n",
        "# Usar qiskit primitives statevector simulator\n",
        "\n",
        "sampler = Sampler()\n",
        "probability_density = []\n",
        "\n",
        "for circ in circuits:\n",
        "\n",
        "    job = sampler.run(circ)\n",
        "\n",
        "    # Colectar los resultados del trabajo (job.)\n",
        "    result = job.result()\n",
        "    probs = result.quasi_dists[0]\n",
        "    # print(probs)\n",
        "    probability_density.append([probs.get(2**key,0) for key in range(num_qubits)])\n",
        "\n",
        "\n",
        "probability_density = np.array(probability_density)"
      ]
    },
    {
      "cell_type": "markdown",
      "metadata": {
        "id": "Chn1-UEBzV_V"
      },
      "source": [
        "Graficamos las probabilidades de que el electrón este en cada átomo."
      ]
    },
    {
      "cell_type": "code",
      "execution_count": null,
      "metadata": {
        "id": "y3crWFObzV_V"
      },
      "outputs": [],
      "source": [
        "plt.figure(figsize=(3,5), facecolor='white')\n",
        "plt.pcolormesh(np.linspace(0,num_qubits-1,num_qubits),\n",
        "                time_steps*delta_t,\n",
        "                probability_density[:,::-1])\n",
        "plt.colorbar()\n",
        "plt.xlim(6.5, -0.5)\n",
        "plt.xlabel('Qubit')\n",
        "plt.ylabel('Tiempo')"
      ]
    },
    {
      "cell_type": "markdown",
      "metadata": {
        "id": "iiuxvriGzV_W"
      },
      "source": [
        "Vemos que una dinámica similar al caso clásico, es decir, un transporte del electrón de izquierda a derecha, y después de derecha a izquierda. Sin embargo, como la fórmula de Trotter sólo nos permite aproximar el operador de evolución, la simulación cuántica es levemente distinta a la clásica. ¿De cuánto es este error? Depende del número de pasos de Trotter, lo cual se puede ver en el siguiente gráfico."
      ]
    },
    {
      "cell_type": "code",
      "execution_count": null,
      "metadata": {
        "id": "Qbe2Q22CzV_W"
      },
      "outputs": [],
      "source": [
        "t_target = 0.5\n",
        "U_target = Operator(U_tb(t_target))\n",
        "steps    = np.array([1,10,100])  ## NO EDITAR ESTA LINEA\n",
        "\n",
        "fidelities = []\n",
        "for n in steps:\n",
        "    U_trotter = Operator(U_trotterize(t_target/n, trotter_steps=n))\n",
        "    fidelity  = process_fidelity(U_trotter, target=U_target)\n",
        "    fidelities.append(fidelity)\n",
        "\n",
        "plt.figure(facecolor='white')\n",
        "plt.loglog(steps, 1-np.array(fidelities))\n",
        "plt.ylabel('Trotter error')\n",
        "plt.xlabel('Trotter steps')\n",
        "plt.show()"
      ]
    },
    {
      "cell_type": "markdown",
      "metadata": {
        "id": "hFKaeu7AzV_X"
      },
      "source": [
        "## Localización de Anderson\n",
        "Ahora simularemos cuánticamente el modelo tight binding en un contexto más interesante. La propagación de un electrón en una red cristalina se ve afectado por la introducción de desorden en las energías de cada átomo $\\epsilon_j$, lo que lleva a un fenómeno conocido como localización de Anderson. La inhomogeneidad de la red cristalina causa dispersión y produce una interferencia cuántica que tiende a inhibir la propagación de la partícula, localizándola en una región pequeña de la red.\n",
        "\n",
        "$$ H = \\sum_{j} \\epsilon_j Z_j + X_jX_{j+1} + Y_jY_{j+1}.$$"
      ]
    },
    {
      "cell_type": "markdown",
      "metadata": {
        "id": "GX4yEj44zV_X"
      },
      "source": [
        "<img src=\"https://raw.githubusercontent.com/MIROptics/ECC2025/refs/heads/master/talleres/04_Simulacion_Cuantica_de_Localizacion_de_Anderson/img/ecc24_trotter_2.jpg\"\n",
        "     align=\"left\"\n",
        "     width=\"500\" />"
      ]
    },
    {
      "cell_type": "markdown",
      "metadata": {
        "id": "jw72HGqgzV_X"
      },
      "source": [
        "Phillip Anderson propuso por primera vez en 1958 que la dispersión debida al desorden puede detener completamente el transporte. Antes del descubrimiento de Anderson, los científicos modelaban el desorden cristalino como perturbaciones que dispersaban a los electrones de manera aleatoria, tratando a los electrones como partículas puntuales. Esta lógica, llevó a la descripción del transporte en estos sistemas como un movimiento browniano, en el que subyace la ley de Ohm. Sin embargo, Anderson revisitó el efecto del desorden en la evolución del estado de un electrón, a su vez en un cristal periódico. Anderson analizó el problema en el régimen cuántico, así tomando en cuenta la naturaleza ondulatoria del electrón, y encontró que el movimiento difusivo clásico del electrón se pierde ya que la distribución de probabilidad del electrón se localiza exponencialmente. Por lo tanto, cuando un electrón está inicialmente ubicado en un átomo, su estado no podrá expandirse con el tiempo para cubrir todo el cristal, sino que más bien permanecerá localizado alrededor de su posición inicial. Así, el material dejará de conducir cargas eléctricas y se comportará como un aislante. Este fenómeno de localización es una consecuencia directa de los diferentes caminos de interferencia que surgen de las múltiples dispersiones del electrón con los defectos de la red cristalina."
      ]
    },
    {
      "cell_type": "markdown",
      "metadata": {
        "id": "KCGu6JC-zV_X"
      },
      "source": [
        "Podemos inducir localización de Anderson en este sistema cambiando $\\epsilon_j$ al crear un cuasicristal de Aubry-Andre, que modela la transición metal-aislante. Tenemos que\n",
        "\n",
        "$$ \\epsilon_j=W \\cos(2\\pi\\beta j) ,$$\n",
        "\n",
        "donde $W$ es el tamaño del desorden y $\\beta$ determina la periodicidad del desorden en el cristal."
      ]
    },
    {
      "cell_type": "code",
      "execution_count": null,
      "metadata": {
        "id": "RM-3k3dNzV_X"
      },
      "outputs": [],
      "source": [
        "beta = (np.sqrt(5)-1)/2                                # NO EDITAR\n",
        "AA_patern = np.cos(2*np.pi*beta*np.arange(num_qubits)) # NO EDITAR\n",
        "\n",
        "plt.plot(np.linspace(-0.5,6.5,101),\n",
        "          np.cos(2*np.pi*beta*np.linspace(-0.5,6.5,101)), '--')\n",
        "plt.plot(np.arange(num_qubits), AA_patern, 'o', label=r'$\\epsilon_i$')\n",
        "plt.xlabel('Posición')\n",
        "plt.ylabel('Energía')\n",
        "plt.legend()\n",
        "plt.title('Potential de Aubry-Andre')\n",
        "plt.show()"
      ]
    },
    {
      "cell_type": "markdown",
      "metadata": {
        "id": "LieASh8uzV_Y"
      },
      "source": [
        "Ahora nuestro paso de Trotter incluirá los términos $\\{\\epsilon_j Z_j \\}$, los cuales supusimos nulos en la primera parte del taller, es decir\n",
        "\n",
        "$$ U_{step}(t) = \\left( e^{-itX_0X_{1}/m}e^{-itY_0Y_{1}/m}\\cdots e^{-itX_{n-2}X_{n-1}/m}e^{-itY_{n-2}Y_{n-1}/m} \\right) \\left(e^{-it\\epsilon_0Z_0/m}\\cdots e^{-it\\epsilon_{n-1}Z_{n-1}/m}\\right). $$\n"
      ]
    },
    {
      "cell_type": "code",
      "execution_count": null,
      "metadata": {
        "id": "mtVmmbtdzV_Y"
      },
      "outputs": [],
      "source": [
        "Trot_qr_disorder = QuantumRegister(num_qubits, 'q')\n",
        "Trot_qc_disorder = QuantumCircuit(Trot_qr_disorder, name='Trot disorder')\n",
        "\n",
        "Trot_qc_disorder.append(Trot_tb_gate, range(num_qubits))\n",
        "deltas = [Parameter('delta_{:d}'.format(idx)) for idx in range(num_qubits)]\n",
        "\n",
        "### EDITAR BAJO ESTA LINEA (agregar desorden en cada qubit)\n",
        "### Hint: .rz()\n",
        "\n",
        "\n",
        "\n",
        "### NO EDITAR BAJO ESTA LINEA\n",
        "\n",
        "# Convertir el circuito en una puerta\n",
        "Trot_disorder_gate = Trot_qc_disorder.to_instruction()\n",
        "\n",
        "Trot_qc_disorder.draw('mpl')"
      ]
    },
    {
      "cell_type": "markdown",
      "metadata": {
        "id": "QGGRiovUzV_Z"
      },
      "source": [
        "Simulamos nuevamente la dinámica hasta $t=3$."
      ]
    },
    {
      "cell_type": "code",
      "execution_count": null,
      "metadata": {
        "id": "kKM-r7l5zV_Z"
      },
      "outputs": [],
      "source": [
        "delta_t = 0.15\n",
        "time_steps = np.arange(1, 20, 1)\n",
        "W = 2                     # NO EDITAR\n",
        "disorders = W * AA_patern # NO EDITAR\n",
        "disorder_circuits = []\n",
        "\n",
        "for n_steps in time_steps:\n",
        "\n",
        "    qr = QuantumRegister(num_qubits)\n",
        "    cr = ClassicalRegister(num_qubits)\n",
        "    qc = QuantumCircuit(qr, cr)\n",
        "\n",
        "    qc.x(0)\n",
        "\n",
        "    for _ in range(n_steps):\n",
        "        qc.append(Trot_disorder_gate, range(num_qubits))\n",
        "\n",
        "    qc = qc.assign_parameters({t: delta_t})\n",
        "    qc = qc.assign_parameters({deltas[idx]: disorders[idx] for idx in range(num_qubits)})\n",
        "\n",
        "    qc.measure(qr, cr)\n",
        "    disorder_circuits.append(qc)"
      ]
    },
    {
      "cell_type": "markdown",
      "metadata": {
        "id": "32PyhX0bzV_Z"
      },
      "source": [
        "Graficamos la probabilidad de que el electrón esté en cada átomo."
      ]
    },
    {
      "cell_type": "code",
      "execution_count": null,
      "metadata": {
        "id": "0UigUUudzV_Z"
      },
      "outputs": [],
      "source": [
        "probability_density_localization = []\n",
        "for circ in disorder_circuits:\n",
        "    job2 = sampler.run(circ)\n",
        "    probs = job2.result().quasi_dists[0]\n",
        "    probability_density_localization.append([probs.get(2**key,0)\n",
        "                                              for key in range(num_qubits)])\n",
        "\n",
        "probability_density_localization = np.array(probability_density_localization)"
      ]
    },
    {
      "cell_type": "code",
      "execution_count": null,
      "metadata": {
        "id": "1ycRzCyozV_a"
      },
      "outputs": [],
      "source": [
        "plt.figure(figsize=(3,5), facecolor='white')\n",
        "plt.pcolormesh(np.linspace(0, num_qubits-1, num_qubits),\n",
        "               time_steps*delta_t,\n",
        "               probability_density_localization[:,::-1])\n",
        "plt.colorbar()\n",
        "plt.xlim(6.5, -0.5)\n",
        "plt.xlabel('Qubit')\n",
        "plt.ylabel('Tiempo')"
      ]
    },
    {
      "cell_type": "markdown",
      "metadata": {
        "id": "IhADK9-ozV_a"
      },
      "source": [
        "Vemos que la probabilidad de que el electrón esté en el primer átomo de la izquierda es cercana a 1, mientras que la probabilidad de que esté en los otros átomos es cercana a 0, es decir, el electrón está localizado en el primer átomo!"
      ]
    },
    {
      "cell_type": "markdown",
      "metadata": {
        "id": "4P1s5G3hzV_a"
      },
      "source": [
        "Este taller fue construido por Luciano Pereira y Mauricio Casanova, inspirado en el [IBM quantum Challenge 2022 spring](https://github.com/qiskit-community/ibm-quantum-spring-challenge-2022)."
      ]
    }
  ],
  "metadata": {
    "colab": {
      "provenance": []
    },
    "kernelspec": {
      "display_name": "qiskit",
      "language": "python",
      "name": "python3"
    },
    "language_info": {
      "codemirror_mode": {
        "name": "ipython",
        "version": 3
      },
      "file_extension": ".py",
      "mimetype": "text/x-python",
      "name": "python",
      "nbconvert_exporter": "python",
      "pygments_lexer": "ipython3",
      "version": "3.10.6"
    }
  },
  "nbformat": 4,
  "nbformat_minor": 0
}
