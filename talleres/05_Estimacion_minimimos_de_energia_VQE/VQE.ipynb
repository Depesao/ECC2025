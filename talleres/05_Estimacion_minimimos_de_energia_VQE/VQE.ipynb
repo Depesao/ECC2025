{
 "cells": [
  {
   "cell_type": "markdown",
   "id": "y75VleIlB1Ye",
   "metadata": {
    "id": "y75VleIlB1Ye"
   },
   "source": []
  },
  {
   "cell_type": "markdown",
   "id": "sD2bmwKbbpcD",
   "metadata": {
    "id": "sD2bmwKbbpcD"
   },
   "source": [
    "# **Estimación de mínimos de energía en moléculas con VQE**"
   ]
  },
  {
   "cell_type": "code",
   "execution_count": null,
   "id": "GD_3BAh5Vu0B",
   "metadata": {
    "colab": {
     "base_uri": "https://localhost:8080/"
    },
    "executionInfo": {
     "elapsed": 39826,
     "status": "ok",
     "timestamp": 1735850467308,
     "user": {
      "displayName": "Mario Muñoz",
      "userId": "07303692370295375776"
     },
     "user_tz": 180
    },
    "id": "GD_3BAh5Vu0B",
    "outputId": "2d236f25-40a1-4cda-915f-664a52b16804"
   },
   "outputs": [],
   "source": [
    "pip install git+https://github.com/MIROptics/ECC2025.git"
   ]
  },
  {
   "cell_type": "markdown",
   "id": "vv8_bKMfmFfQ",
   "metadata": {
    "id": "vv8_bKMfmFfQ"
   },
   "source": [
    "## Variational quantum eigensolver\n",
    "\n",
    "Variational quantum eigensolver (VQE) [[1]](#Peruzzo2016) es un algoritmo que sirve para encontrar una cota superior para la mínima energía de un Hamiltoniano $\\hat{H}$ (operador autoadjunto), es decir, el menor autovalor de $\\hat{H}$. VQE es una herramienta útil en la búsqueda de una aproximación al estado basal, esto es, el autoestado asociado a la mínima energía. Para ello, VQE resuelve el problema\n",
    "\n",
    "\\begin{equation}\n",
    " \\min_{|\\psi\\rangle}\\frac{\n",
    " \\langle\\psi|\\hat{H}|\\psi\\rangle}{\\langle\\psi|\\psi\\rangle}\n",
    "\\end{equation}\n",
    "\n",
    "lo que significa que se busca un estado $|\\psi\\rangle$ que minimice el coeficiente de Rayleigh. Magnitud que puede ser eficientemente evaluada mediante un computador cuántico, y minimizada en un computador clásico. Para llevar a cabo esta tarea, se necesita aprender tres cosas:\n",
    "\n",
    "1) Mapear el Hamiltoniano $\\hat{H}$ a un computador cuántico.\n",
    "\n",
    "2) Generar el estado $|\\psi\\rangle$ en un circuito cuántico paramétrico.\n",
    "\n",
    "3) Evaluar el valor esperado del hamiltoniano $\\hat{H}$."
   ]
  },
  {
   "cell_type": "markdown",
   "id": "292656bc-2d0b-4db8-94e4-f3e864e1b387",
   "metadata": {
    "id": "292656bc-2d0b-4db8-94e4-f3e864e1b387"
   },
   "source": [
    "## Primer Paso: Mapeo del Hamiltoneano\n",
    "\n",
    "Hamiltonianos moleculares en segunda cuantización [[2]](#Tilly2022) pueden ser definidos como operadores fermiónicos mediante la función PySCFDriver() de la librería qiskit_nature.second_q.drivers."
   ]
  },
  {
   "cell_type": "code",
   "execution_count": null,
   "id": "zRci31_8dOQq",
   "metadata": {
    "id": "zRci31_8dOQq"
   },
   "outputs": [],
   "source": [
    "from qiskit_nature.units import DistanceUnit\n",
    "from qiskit_nature.second_q.drivers import PySCFDriver\n",
    "\n",
    "driver = PySCFDriver(\n",
    "            atom = \"H 0 0 0; H 0 0 0.735\",\n",
    "            basis=\"sto3g\",\n",
    "            charge=0,\n",
    "            spin=0,\n",
    "            unit=DistanceUnit.ANGSTROM,\n",
    "            )\n",
    "\n",
    "\n",
    "problem = driver.run()\n",
    "hamiltonian  = problem.hamiltonian\n",
    "fermionic_op = hamiltonian.second_q_op()\n",
    "print(fermionic_op)"
   ]
  },
  {
   "cell_type": "markdown",
   "id": "RF8MJfL6BssY",
   "metadata": {
    "id": "RF8MJfL6BssY"
   },
   "source": [
    "Para guardar dicho Hamiltoniano se hace uso de la función json.dump() de la librería json."
   ]
  },
  {
   "cell_type": "code",
   "execution_count": null,
   "id": "596855de-348c-4330-b638-bc97634bdfe4",
   "metadata": {
    "id": "596855de-348c-4330-b638-bc97634bdfe4"
   },
   "outputs": [],
   "source": [
    "# Guardar operador fermiónico\n",
    "import json\n",
    "\n",
    "fermionic_op_dict = fermionic_op.__dict__\n",
    "\n",
    "with open(\"fermionic_op1.json\", \"w\") as outfile:\n",
    "    json.dump(fermionic_op_dict, outfile)"
   ]
  },
  {
   "cell_type": "markdown",
   "id": "3yySUOnkBohI",
   "metadata": {
    "id": "3yySUOnkBohI"
   },
   "source": [
    "Adicionalmente, mediante la función json.load() se puede cargar un Hamiltoniano previamente guardado."
   ]
  },
  {
   "cell_type": "code",
   "execution_count": null,
   "id": "PSTQSHpwdWp_",
   "metadata": {
    "id": "PSTQSHpwdWp_"
   },
   "outputs": [],
   "source": [
    "# Cargar operador Fermiónico\n",
    "from qiskit_nature.second_q.operators.fermionic_op import FermionicOp\n",
    "import json\n",
    "\n",
    "infile = open('fermionic_op1.json')\n",
    "fermionic_op_dict = json.load(infile)\n",
    "fermionic_op = FermionicOp( fermionic_op_dict['_data'] )\n",
    "print( fermionic_op )"
   ]
  },
  {
   "cell_type": "markdown",
   "id": "873e73d7-9bc5-4641-855b-04294a93c104",
   "metadata": {
    "id": "873e73d7-9bc5-4641-855b-04294a93c104"
   },
   "source": [
    "Para simular sistemas fermiónicos en computadores cuánticos, los operadores fermiónicos deben ser codificados en redes de qubits. Para ello, comúnmente se utiliza la\n",
    "transformación de Jordan-Wigner [[3]](#JW1928) (concretamente su transformación inversa) para convertir un Hamiltoniano fermiónico en un Hamiltoniano de spín. Esto se ejecuta en Qiskit mediante la función JordanWignerMapper() de la libreria qiskit_nature.second_q.mappers."
   ]
  },
  {
   "cell_type": "code",
   "execution_count": null,
   "id": "c1rBKJVGdbGv",
   "metadata": {
    "id": "c1rBKJVGdbGv"
   },
   "outputs": [],
   "source": [
    "from qiskit_nature.second_q.mappers import JordanWignerMapper\n",
    "mapper = JordanWignerMapper()\n",
    "qubit_op = mapper.map(fermionic_op)\n",
    "print( qubit_op )"
   ]
  },
  {
   "cell_type": "markdown",
   "id": "89e3260a",
   "metadata": {
    "id": "89e3260a"
   },
   "source": [
    "## Segundo Paso: Generar el ansatz\n",
    "\n",
    "Nos referimos por ansatz a un circuito cuántico paramétrico que determina los estados cuánticos $|\\psi({\\theta})\\rangle = U({\\theta})|0\\rangle$ considerados en la minimización de la energía. Los estados ansatz están caracterizados por secuencias de capas de compuertas paramétricas de un qubit como por ejemplo $Rx(\\theta_1)R_y(\\theta_2)$, las cuales se repiten un cierto número de veces, y entre cada repetición se encuentra una compuerta que entrelaza los qubits.\n",
    "\n",
    "![Ansatz](https://raw.githubusercontent.com/MIROptics/ECC2025/refs/heads/master/talleres/05_Estimacion_minimimos_de_energia_VQE/img/Ansatz.png)\n",
    "\n",
    "Para crear este circuito paramétrico (hardware eficiente [[2]](#Tilly2022)), debemos utilizar la función ParameterVector() de qiskit. Esta, crea un conjunto de variables simbólicas que son utilizadas como argumento en las puertas del ansatz.\n",
    "\n",
    "**Instrucción**: Escribir una función que genere el ansatz requerido, para un número de qubits y de capas indicadas (Para el ejemplo se utiliza 4 y 2 respectivamente).\n",
    "\n"
   ]
  },
  {
   "cell_type": "code",
   "execution_count": null,
   "id": "81817c28-cb15-4646-980a-627ebb96eb6e",
   "metadata": {
    "id": "81817c28-cb15-4646-980a-627ebb96eb6e"
   },
   "outputs": [],
   "source": [
    "# Importar librerías necesarias\n",
    "from qiskit import QuantumCircuit\n",
    "from qiskit.circuit import ParameterVector\n",
    "\n",
    "def Hardware_Efficient_Ansatz(nqubits,reps):\n",
    "\n",
    "  theta   = ParameterVector( '$\\\\theta$', 2*nqubits*(reps+1) )\n",
    "  ansatz = QuantumCircuit(nqubits)\n",
    "\n",
    "  ## completar ##\n",
    "\n",
    "  # Compuertas iniciales\n",
    "\n",
    "\n",
    "\n",
    "  # Layers\n",
    "\n",
    "\n",
    "\n",
    "  return ansatz"
   ]
  },
  {
   "cell_type": "markdown",
   "id": "8ojhN-xVFSVb",
   "metadata": {
    "id": "8ojhN-xVFSVb"
   },
   "source": [
    "Luego, podemos generar el ansatz del ejemplo:"
   ]
  },
  {
   "cell_type": "code",
   "execution_count": null,
   "id": "IRxL6iYrdiCl",
   "metadata": {
    "id": "IRxL6iYrdiCl"
   },
   "outputs": [],
   "source": [
    "nqubits = fermionic_op.num_spin_orbitals\n",
    "reps    = 2\n",
    "ansatz = Hardware_Efficient_Ansatz(nqubits,reps)\n",
    "ansatz.draw('mpl')"
   ]
  },
  {
   "cell_type": "markdown",
   "id": "60c695c7-2941-4dfa-8a47-6762802f4b32",
   "metadata": {
    "id": "60c695c7-2941-4dfa-8a47-6762802f4b32"
   },
   "source": [
    "## Tercer Paso: Evaluar el valor de expectacion y minimizar la energía\n",
    "\n",
    "Para estimar valores esperados de circuitos cuánticos y observables, se utiliza la función Estimator() de la librería qiskit_aer.primitives. Luego, se puede minimizar la energía mediante cualquier optimizador clásico, por ejemplo la función SPSA() de la librería qiskit.algorithms.optimizers.\n",
    "\n",
    "**Instrucción**: Estudie la documentación de <a href=\"https://docs.quantum.ibm.com/api/qiskit/qiskit.primitives.Estimator#run\">qiskit.algorithms.optimizers</a> de Qiskit, para ejecutar el método .run() de la función Estimator(). Esto es, completar los tres inputs faltantes en  \n",
    "\n",
    "    estimator.run( , , , shots=100 )\n",
    "\n"
   ]
  },
  {
   "cell_type": "code",
   "execution_count": null,
   "id": "90cf8f82-bab1-455d-a281-df9c2ba1a46d",
   "metadata": {
    "colab": {
     "base_uri": "https://localhost:8080/"
    },
    "executionInfo": {
     "elapsed": 1409,
     "status": "ok",
     "timestamp": 1735652051326,
     "user": {
      "displayName": "Mario Muñoz",
      "userId": "07303692370295375776"
     },
     "user_tz": 180
    },
    "id": "90cf8f82-bab1-455d-a281-df9c2ba1a46d",
    "outputId": "6deb646c-dc80-4be9-d0e9-d43d76528603"
   },
   "outputs": [
    {
     "name": "stdout",
     "output_type": "stream",
     "text": [
      "[-0.0081419]\n"
     ]
    }
   ],
   "source": [
    "# Importar librerías necesarias\n",
    "import numpy as np\n",
    "from qiskit_aer.primitives import Estimator\n",
    "\n",
    "estimator = Estimator()\n",
    "theta = np.zeros(ansatz.num_parameters)\n",
    "\n",
    "job = estimator.run( , , , shots=100 )\n",
    "\n",
    "values = job.result().values\n",
    "print(values)"
   ]
  },
  {
   "cell_type": "markdown",
   "id": "g4G-tby_BE8F",
   "metadata": {
    "id": "g4G-tby_BE8F"
   },
   "source": [
    "**Intrucción**: Revise la documentación de <a href=\"https://docs.quantum.ibm.com/api/qiskit/0.40/qiskit.algorithms.optimizers.Optimizer\">Optimizer</a> de Qiskit, para realizar la minimización de la función objetivo. Esto es, completar los inputs de\n",
    "    optimizer.minimize( , )"
   ]
  },
  {
   "cell_type": "code",
   "execution_count": null,
   "id": "YjD2_AnHdo5c",
   "metadata": {
    "id": "YjD2_AnHdo5c"
   },
   "outputs": [],
   "source": [
    "from qiskit_algorithms.optimizers import SPSA\n",
    "\n",
    "data_per_iter = []\n",
    "callback      = lambda evals_num, params, fun_value, stepsize, step_accepted : data_per_iter.append( fun_value )\n",
    "\n",
    "maxiter   = 200\n",
    "optimizer = SPSA( maxiter=maxiter, callback=callback )\n",
    "\n",
    "obj_func = lambda theta : estimator.run( ansatz,\n",
    "                                        qubit_op,\n",
    "                                        theta,\n",
    "                                        shots=100 ).result().values\n",
    "\n",
    "initial_params = np.random.randn(ansatz.num_parameters)\n",
    "\n",
    "results = optimizer.minimize( , )\n",
    "print(results)"
   ]
  },
  {
   "cell_type": "markdown",
   "id": "Ga7Wln6NCfFH",
   "metadata": {
    "id": "Ga7Wln6NCfFH"
   },
   "source": [
    "**Observación**: Observe el output de optimizer.minimize( , ) y vea como obtener el valor mínimo y los parámetros que determinan el estado de mínima energía. Además, note que en la variable *data_per_iter* se guardó los valores de la minimización en cada iteración."
   ]
  },
  {
   "cell_type": "code",
   "execution_count": null,
   "id": "IafTebkcdAW2",
   "metadata": {
    "id": "IafTebkcdAW2"
   },
   "outputs": [],
   "source": []
  },
  {
   "cell_type": "markdown",
   "id": "c93c7e12-f464-4ebb-91a3-6ec28dcaff0c",
   "metadata": {
    "id": "c93c7e12-f464-4ebb-91a3-6ec28dcaff0c"
   },
   "source": [
    "## Analisis de resultados\n",
    "\n",
    "Para determinar la performance (convergencia y velocidad de convergencia) del optimizador en la minimización de la energía, se necesita un valor mínimo de referencia. Para este ejemplo pedagógico, podemos hacer \"trampa\" y calcular dicho mínimo clásicamente al diagonalizar el Hamiltoniano $\\hat{H}$.\n"
   ]
  },
  {
   "cell_type": "code",
   "execution_count": null,
   "id": "2f5d0dfd-7a6e-4e48-9039-e20b82761ec4",
   "metadata": {
    "colab": {
     "base_uri": "https://localhost:8080/"
    },
    "executionInfo": {
     "elapsed": 277,
     "status": "ok",
     "timestamp": 1735654204625,
     "user": {
      "displayName": "Mario Muñoz",
      "userId": "07303692370295375776"
     },
     "user_tz": 180
    },
    "id": "2f5d0dfd-7a6e-4e48-9039-e20b82761ec4",
    "outputId": "7e5dac88-fda1-40a7-95e1-53f97d40a5de"
   },
   "outputs": [
    {
     "name": "stdout",
     "output_type": "stream",
     "text": [
      "[-1.85727503]\n"
     ]
    }
   ],
   "source": [
    "from qiskit_algorithms.eigensolvers import NumPyEigensolver\n",
    "\n",
    "classical_solver  = NumPyEigensolver()\n",
    "results_classical = classical_solver.compute_eigenvalues( qubit_op )\n",
    "min_of_energy     = results_classical.eigenvalues\n",
    "print(min_of_energy)"
   ]
  },
  {
   "cell_type": "markdown",
   "id": "TsU1yTycDYnW",
   "metadata": {
    "id": "TsU1yTycDYnW"
   },
   "source": [
    "Luego podemos graficar los valores obtenidos mediante la minimización."
   ]
  },
  {
   "cell_type": "code",
   "execution_count": null,
   "id": "71P7ipSvd6Tc",
   "metadata": {
    "id": "71P7ipSvd6Tc"
   },
   "outputs": [],
   "source": [
    "import matplotlib.pyplot as plt\n",
    "\n",
    "plt.plot( data_per_iter )\n",
    "plt.plot( [maxiter], [results.fun], 'o' )\n",
    "plt.hlines( min_of_energy, 0, maxiter, color='tab:red' )\n",
    "plt.xlabel('Número de iteraciones')\n",
    "plt.ylabel('Energía')"
   ]
  },
  {
   "cell_type": "markdown",
   "id": "e6e38d4c-97c8-4c72-adea-d2185f3f3ceb",
   "metadata": {
    "id": "e6e38d4c-97c8-4c72-adea-d2185f3f3ceb"
   },
   "source": [
    "## Implementación de VQE\n",
    "\n",
    "Para realizar una implementación de VQE solo resta juntar los tres pasos anteriores.\n",
    "\n",
    "**Instruccion**: Escribir una función que entregue una estimación del mínimo de la energía y los parámetros $\\theta$ que determinan el estado que la minimiza. Para ello debe entregarse al programa el número de layers que considera el ansatz y el número de iteraciones del optimizador clásico (SPSA en este caso)."
   ]
  },
  {
   "cell_type": "code",
   "execution_count": null,
   "id": "e5abb4a5-0289-48a2-b073-a73a441fa539",
   "metadata": {
    "id": "e5abb4a5-0289-48a2-b073-a73a441fa539"
   },
   "outputs": [],
   "source": [
    "## Importamos todas las librerias\n",
    "#pip install git+https://github.com/LucianoPereiraValenzuela/ECC_2025_testing.git\n",
    "\n",
    "import numpy as np\n",
    "import matplotlib.pyplot as plt\n",
    "from qiskit import QuantumCircuit\n",
    "from qiskit.circuit import ParameterVector\n",
    "from qiskit_aer.primitives import Estimator\n",
    "from qiskit_algorithms.optimizers import SPSA\n",
    "from qiskit_algorithms.optimizers import QNSPSA\n",
    "from qiskit.primitives import Sampler\n",
    "\n",
    "def VQE(qubit_op, reps, maxiter):\n",
    "\n",
    "    # Definir el Ansatz\n",
    "\n",
    "\n",
    "    # realizar la optimización\n",
    "\n",
    "    return results.fun, results.x, data_per_iter\n"
   ]
  },
  {
   "cell_type": "markdown",
   "id": "YOyQWX6XKPhI",
   "metadata": {
    "id": "YOyQWX6XKPhI"
   },
   "source": [
    "**Instrucción:** Cargue el Hamiltoniano generado previamente y llame a la función VQE. Finalmente, realice un gráfico que muestre la estimación de la energía mínima entregada por VQE en cada iteración."
   ]
  },
  {
   "cell_type": "code",
   "execution_count": null,
   "id": "bwnm42yWeBbq",
   "metadata": {
    "id": "bwnm42yWeBbq"
   },
   "outputs": [],
   "source": [
    "# Cargar librerias en caso de no haberlo hecho antes\n",
    "from qiskit_nature.second_q.operators.fermionic_op import FermionicOp\n",
    "import json\n",
    "from qiskit_nature.second_q.mappers import JordanWignerMapper\n",
    "from qiskit_algorithms.eigensolvers import NumPyEigensolver\n",
    "\n",
    "## Paso 1: Definir Hamiltoniano\n",
    "# Cragar Hamiltoneano\n",
    "\n",
    "fermionic_op =\n",
    "\n",
    "# Mapear Hamiltoniano\n",
    "\n",
    "qubit_op =\n",
    "\n",
    "\n",
    "## Implementacion (LLamar a función VQE)\n",
    "reps =\n",
    "maxiter =\n",
    "\n",
    "estimated_energy, estimated_theta, data_per_iter =\n",
    "\n",
    "##  Analisis de resultados\n",
    "\n",
    "# Obtener valor de referencia (Esto no se puede hacer siempre. Aqui se puede por que es un ejemplo simple)\n",
    "\n",
    "min_of_energy =\n",
    "\n",
    "# Plotear resultados"
   ]
  },
  {
   "cell_type": "markdown",
   "id": "3f667305-3016-40d7-9b68-f04b177e7513",
   "metadata": {
    "id": "3f667305-3016-40d7-9b68-f04b177e7513"
   },
   "source": [
    "## Tarea 1:\n",
    "\n",
    "Comparar el funcionamiento de la función VQE al considerar distintos números de layers."
   ]
  },
  {
   "cell_type": "code",
   "execution_count": null,
   "id": "328aea22-b6fb-4b4b-81e5-37cbe202f998",
   "metadata": {
    "colab": {
     "base_uri": "https://localhost:8080/",
     "height": 868
    },
    "executionInfo": {
     "elapsed": 5010306,
     "status": "ok",
     "timestamp": 1735678447815,
     "user": {
      "displayName": "Mario Muñoz",
      "userId": "07303692370295375776"
     },
     "user_tz": 180
    },
    "id": "328aea22-b6fb-4b4b-81e5-37cbe202f998",
    "outputId": "ddb787e6-454f-4b87-8c57-3381ecb64844"
   },
   "outputs": [
    {
     "name": "stderr",
     "output_type": "stream",
     "text": [
      "<ipython-input-15-9e4633ef746e>:7: DeprecationWarning: Estimator has been deprecated as of Aer 0.15, please use EstimatorV2 instead.\n",
      "  estimated_energy, estimated_theta, data_per_iter = VQE(qubit_op, capas[k], maxiter)\n",
      "<ipython-input-15-9e4633ef746e>:7: DeprecationWarning: Option approximation=False is deprecated as of qiskit-aer 0.13. It will be removed no earlier than 3 months after the release date. Instead, use BackendEstimator from qiskit.primitives.\n",
      "  estimated_energy, estimated_theta, data_per_iter = VQE(qubit_op, capas[k], maxiter)\n",
      "<ipython-input-11-44cc85b3f467>:27: DeprecationWarning: The class ``qiskit.primitives.sampler.Sampler`` is deprecated as of qiskit 1.2. It will be removed no earlier than 3 months after the release date. All implementations of the `BaseSamplerV1` interface have been deprecated in favor of their V2 counterparts. The V2 alternative for the `Sampler` class is `StatevectorSampler`.\n",
      "  fidelity = QNSPSA.get_fidelity(ansatz, sampler = Sampler())\n",
      "<ipython-input-15-9e4633ef746e>:7: DeprecationWarning: Estimator has been deprecated as of Aer 0.15, please use EstimatorV2 instead.\n",
      "  estimated_energy, estimated_theta, data_per_iter = VQE(qubit_op, capas[k], maxiter)\n",
      "<ipython-input-15-9e4633ef746e>:7: DeprecationWarning: Option approximation=False is deprecated as of qiskit-aer 0.13. It will be removed no earlier than 3 months after the release date. Instead, use BackendEstimator from qiskit.primitives.\n",
      "  estimated_energy, estimated_theta, data_per_iter = VQE(qubit_op, capas[k], maxiter)\n",
      "<ipython-input-11-44cc85b3f467>:27: DeprecationWarning: The class ``qiskit.primitives.sampler.Sampler`` is deprecated as of qiskit 1.2. It will be removed no earlier than 3 months after the release date. All implementations of the `BaseSamplerV1` interface have been deprecated in favor of their V2 counterparts. The V2 alternative for the `Sampler` class is `StatevectorSampler`.\n",
      "  fidelity = QNSPSA.get_fidelity(ansatz, sampler = Sampler())\n",
      "<ipython-input-15-9e4633ef746e>:7: DeprecationWarning: Estimator has been deprecated as of Aer 0.15, please use EstimatorV2 instead.\n",
      "  estimated_energy, estimated_theta, data_per_iter = VQE(qubit_op, capas[k], maxiter)\n",
      "<ipython-input-15-9e4633ef746e>:7: DeprecationWarning: Option approximation=False is deprecated as of qiskit-aer 0.13. It will be removed no earlier than 3 months after the release date. Instead, use BackendEstimator from qiskit.primitives.\n",
      "  estimated_energy, estimated_theta, data_per_iter = VQE(qubit_op, capas[k], maxiter)\n",
      "<ipython-input-11-44cc85b3f467>:27: DeprecationWarning: The class ``qiskit.primitives.sampler.Sampler`` is deprecated as of qiskit 1.2. It will be removed no earlier than 3 months after the release date. All implementations of the `BaseSamplerV1` interface have been deprecated in favor of their V2 counterparts. The V2 alternative for the `Sampler` class is `StatevectorSampler`.\n",
      "  fidelity = QNSPSA.get_fidelity(ansatz, sampler = Sampler())\n",
      "/usr/local/lib/python3.10/dist-packages/matplotlib/cbook.py:1699: ComplexWarning: Casting complex values to real discards the imaginary part\n",
      "  return math.isfinite(val)\n",
      "/usr/local/lib/python3.10/dist-packages/numpy/ma/core.py:3387: ComplexWarning: Casting complex values to real discards the imaginary part\n",
      "  _data[indx] = dval\n"
     ]
    },
    {
     "data": {
      "text/plain": [
       "<matplotlib.legend.Legend at 0x78effcb40430>"
      ]
     },
     "execution_count": 15,
     "metadata": {},
     "output_type": "execute_result"
    },
    {
     "data": {
      "image/png": "[encoded data removed]",
      "text/plain": [
       "<Figure size 640x480 with 1 Axes>"
      ]
     },
     "metadata": {},
     "output_type": "display_data"
    }
   ],
   "source": [
    "results_per_rep = []\n",
    "capas = []\n",
    "maxiter =\n",
    "\n",
    "for k in range(len(capas)):\n",
    "    estimated_energy, estimated_theta, data_per_iter = VQE(qubit_op, capas[k], maxiter)\n",
    "    plt.plot( data_per_iter, label='reps={}'.format(k) )\n",
    "\n",
    "plt.hlines( min_of_energy, 0, maxiter, color='tab:red' )\n",
    "plt.xlabel('Número de iteraciones')\n",
    "plt.ylabel('Energía')\n",
    "plt.legend()"
   ]
  },
  {
   "cell_type": "markdown",
   "id": "1be83f1a-075b-4597-9f4e-e13d9c4b858b",
   "metadata": {
    "id": "1be83f1a-075b-4597-9f4e-e13d9c4b858b"
   },
   "source": [
    "## Tarea 2:\n",
    "\n",
    "Cambiar el optimizador clásico utilizado en la función VQE (SPSA). Para ello revise la documentación de Qiskit respecto a <a href=\"https://docs.quantum.ibm.com/api/qiskit/qiskit.algorithms.optimizers\">optimizadores</a>. Por ejemplo, para utilizar el optimizador QN-SPSA se debe cargar las funciones\n",
    "\n",
    "    from qiskit.algorithms.optimizers import QNSPSA\n",
    "    from qiskit.primitives import Sampler\n",
    "\n",
    " y remplazar el optimizador utilizado, mediante el siguiente segmento de código:\n",
    "      \n",
    "    fidelity = QNSPSA.get_fidelity( ansatz, Sampler() )\n",
    "    optimizer = QNSPSA( fidelity=fidelity, maxiter=maxiter, callback=callback )\n",
    "\n",
    "Observacion: Para este ejemplo, el optimizador QN-SPSA funciona peor que SPSA, requiriendo cerca de 1000 iteraciones para converger.   "
   ]
  },
  {
   "cell_type": "markdown",
   "id": "147d8a56-2a72-46de-b05a-ba4c74eac3da",
   "metadata": {
    "id": "147d8a56-2a72-46de-b05a-ba4c74eac3da"
   },
   "source": [
    "## Tarea 3:\n",
    "\n",
    "Ejecutar la implementación de VQE para simular la partícula de LiH. Para ello, utilice el operador fermiónico guardado en la variable <a href=\"https://drive.google.com/file/d/1yaw3kj-e4Du4cZh2b3DNRsQhyjnZ2WF2/view?usp=drive_link\">fermionic_op2.json</a>. Además, determine el número de layers adecuado a considerar en el ansatz y el optimizador más favorable para alcanzar una buena estimación del mínimo de la energía.\n"
   ]
  },
  {
   "cell_type": "markdown",
   "id": "a23f68c4-937b-4471-b755-028550ef2c8a",
   "metadata": {
    "id": "a23f68c4-937b-4471-b755-028550ef2c8a"
   },
   "source": [
    "## Referencias\n",
    "\n",
    "<a id='Peruzzo2016'>[1]</a> Peruzzo, A., McClean, J., Shadbolt, P. et al. A variational eigenvalue solver on a photonic quantum processor. *Nat Commun 5*, 4213 (2014). https://doi.org/10.1038/ncomms5213\n",
    "\n",
    "<a id='Tilly2022'>[2]</a> Jules Tilly, Hongxiang Chen, Shuxiang Cao, Dario Picozzi, Kanav Setia, Ying Li, Edward Grant, Leonard Wossnig, Ivan Rungger, George H. Booth, Jonathan Tennyson,\n",
    "The Variational Quantum Eigensolver: A review of methods and best practices,\n",
    "*Physics Reports*,\n",
    "Volume 986,\n",
    "2022,\n",
    "Pages 1-128,\n",
    "ISSN 0370-1573,\n",
    "https://doi.org/10.1016/j.physrep.2022.08.003.\n",
    "\n",
    "<a id='JW1928'>[3]</a> Jordan, P., Wigner, E. Über das Paulische Äquivalenzverbot. Z. *Physik* 47, 631–651 (1928). https://doi.org/10.1007/BF01331938"
   ]
  },
  {
   "cell_type": "markdown",
   "id": "47be0f61-831d-49d8-84dc-779a874a9f03",
   "metadata": {
    "id": "47be0f61-831d-49d8-84dc-779a874a9f03"
   },
   "source": [
    "## Contactos:\n",
    "\n",
    "Mario Muñoz <br>\n",
    "Doctor en Ciencias Aplicadas Mención en Ingeniería Matemática, Universidad de Concepción <br>\n",
    "Postdoc, Fundación Getulio Vargas, Rio de Janeiro, Brazil <br>\n",
    "munozmunozmarioalejandro@gmail.com\n",
    "\n",
    "Luciano Pereira <br>\n",
    "Doctor en Ciencias Física, IFF-CSIC, Spain <br>\n",
    "luciano.pereira.valenzuela@gmail.com"
   ]
  },
  {
   "cell_type": "code",
   "execution_count": null,
   "id": "qMa1lRuPm_N6",
   "metadata": {
    "id": "qMa1lRuPm_N6"
   },
   "outputs": [],
   "source": []
  }
 ],
 "metadata": {
  "colab": {
   "provenance": []
  },
  "kernelspec": {
   "display_name": "Python 3 (ipykernel)",
   "language": "python",
   "name": "python3"
  },
  "language_info": {
   "codemirror_mode": {
    "name": "ipython",
    "version": 3
   },
   "file_extension": ".py",
   "mimetype": "text/x-python",
   "name": "python",
   "nbconvert_exporter": "python",
   "pygments_lexer": "ipython3",
   "version": "3.10.8"
  }
 },
 "nbformat": 4,
 "nbformat_minor": 5
}
