{
 "cells": [
  {
   "cell_type": "code",
   "execution_count": null,
   "metadata": {},
   "outputs": [],
   "source": [
    "pip install -U git+https://github.com/MIROptics/ECC2025.git"
   ]
  },
  {
   "cell_type": "code",
   "execution_count": 2,
   "metadata": {},
   "outputs": [],
   "source": [
    "import numpy as np\n",
    "import matplotlib.pyplot as plt \n",
    "from qiskit import QuantumCircuit\n",
    "from qiskit.circuit.random import random_circuit\n",
    "from qiskit.quantum_info import SparsePauliOp\n",
    "from qiskit_aer.noise import NoiseModel, depolarizing_error\n",
    "from qiskit_aer.primitives import Estimator\n",
    "from ECC2025.testing import test_2a, test_2b, test_2c"
   ]
  },
  {
   "cell_type": "markdown",
   "metadata": {},
   "source": [
    "Los computadores cuánticos han mejorado mucho los últimos años, siendo capaces de ejecutar algoritmos cuánticos en número de qubits moderados. Sin embargo, no es posible resolver problemas practicos con ellos debido a que son ruidosos.\n",
    "\n",
    "Para reducir el impacto de estos errores se han propuestos varios metodos de mitigación de errores, siendo el más conocido [__Zero-Noise Extrapolation (ZNE)__](https://arxiv.org/abs/1612.02058). Este método se basa en aumentar intensionalmente el ruido en el circuito aumentando su profundidad, para posteriormente extrapolar el limite sin ruido.\n",
    "\n",
    "Consideremos que queremos evaluar un observable $A$ sobre un estado $|\\psi\\rangle=U_mU_{m-1}\\cdots U_1|0\\rangle$, donde $\\{U_j\\}$ es una secuencia de puertas cuánticas ruidosas. Llamaremos $U=U_mU_{m-1}\\cdots U_1$ a la operación del circuito completo. ZNE se basa en obtener varias estimaciones de $\\langle A \\rangle$ con distintos ruidos realizando [__pliegues__](https://arxiv.org/abs/2005.10921) de la unitaria $U$. Un pliege corresponde a la transformación $U\\rightarrow UU^\\dagger U$.\n",
    "\n",
    "![](https://raw.githubusercontent.com/MIROptics/ECC2025/refs/heads/master/desafios/img/ECC25_ZNE.png)\n",
    "\n",
    "Estos circuitos son equivalentes para estimar el valor esperado de $A$ gracias a que las puerta cuántica $U$ satisfacen $U^\\dagger U=I$. Sin embargo, debido a que al plegar un circuito su profundidad aumenta, la cantidad de error también aumenta. \n",
    "\n",
    "__Desafio:__ Escriba una función que tenga por argumento un circuito cuántico ```qc_U``` con la operación $U$ de un número arbitario de qubits, y que construya el circuito equivalente ```qc_U_N``` con $N$ pliegues."
   ]
  },
  {
   "cell_type": "code",
   "execution_count": 3,
   "metadata": {},
   "outputs": [],
   "source": [
    "def folding( qc_U, N ):\n",
    "\n",
    "    qc_U_N = qc_U.copy()\n",
    "\n",
    "    ##### Escriba su solución acá #####\n",
    "\n",
    "    ########################\n",
    "    \n",
    "    return qc_U_N"
   ]
  },
  {
   "cell_type": "code",
   "execution_count": 4,
   "metadata": {},
   "outputs": [
    {
     "data": {
      "image/png": "[encoded data removed]",
      "text/plain": [
       "<Figure size 185.453x117.056 with 1 Axes>"
      ]
     },
     "execution_count": 4,
     "metadata": {},
     "output_type": "execute_result"
    }
   ],
   "source": [
    "qc_U = random_circuit(1,1)\n",
    "qc_U.draw('mpl')"
   ]
  },
  {
   "cell_type": "code",
   "execution_count": 5,
   "metadata": {},
   "outputs": [
    {
     "data": {
      "image/png": "[encoded data removed]",
      "text/plain": [
       "<Figure size 185.453x117.056 with 1 Axes>"
      ]
     },
     "execution_count": 5,
     "metadata": {},
     "output_type": "execute_result"
    }
   ],
   "source": [
    "N = 2\n",
    "qc_U_N = folding( qc_U, N )\n",
    "qc_U_N.draw('mpl') "
   ]
  },
  {
   "cell_type": "code",
   "execution_count": null,
   "metadata": {},
   "outputs": [],
   "source": [
    "test_2a( folding )"
   ]
  },
  {
   "cell_type": "markdown",
   "metadata": {},
   "source": [
    "__Desafio:__ Consideremos el siguiente observable de 2 qubits,\n",
    "$$ A = \\sigma_x\\otimes \\sigma_y + 2\\sigma_y\\otimes\\sigma_x + 3\\sigma_z\\otimes\\sigma_x. $$\n",
    "Construya este observable utlizando la función ``SparsePauliOp``."
   ]
  },
  {
   "cell_type": "code",
   "execution_count": 7,
   "metadata": {},
   "outputs": [
    {
     "data": {
      "text/plain": [
       "SparsePauliOp(['II'],\n",
       "              coeffs=[1.+0.j])"
      ]
     },
     "execution_count": 7,
     "metadata": {},
     "output_type": "execute_result"
    }
   ],
   "source": [
    "A = SparsePauliOp(['II'], [1]) # Esto es solo una opción por defecto\n",
    "\n",
    "### Escriba su respuesta aca\n",
    "\n",
    "####\n",
    "\n",
    "A"
   ]
  },
  {
   "cell_type": "code",
   "execution_count": null,
   "metadata": {},
   "outputs": [],
   "source": [
    "test_2b( A )"
   ]
  },
  {
   "cell_type": "markdown",
   "metadata": {},
   "source": [
    "Las siguientes celdas realizan  una simulación con ruido de la evaluación de $A$. El gráfico muestra el resultado para un caso donde $\\langle A \\rangle = -3$. Podemos como el valor esperado de la simulación ruidosa se va alejando del valor ideal a medida que aumentan los pliegues."
   ]
  },
  {
   "cell_type": "code",
   "execution_count": 9,
   "metadata": {},
   "outputs": [],
   "source": [
    "noise_model = NoiseModel()\n",
    "error = depolarizing_error( 0.01, 1 )\n",
    "noise_model.add_quantum_error( error, ['x', 'h', 'u', 'y', 'z'], [0] )\n",
    "noise_model.add_quantum_error( error, ['x', 'h', 'u', 'y', 'z'], [1] )\n",
    "\n",
    "backend = Estimator( backend_options={'noise_model':noise_model},\n",
    "                    run_options={'shots':1000, 'seed':0 },\n",
    "                    skip_transpilation = True ) "
   ]
  },
  {
   "cell_type": "code",
   "execution_count": 10,
   "metadata": {},
   "outputs": [],
   "source": [
    "def simulacion( qc_U, Ns ):\n",
    "    obs = []\n",
    "    for n in Ns:\n",
    "        qc_U_N = folding( qc_U, n )\n",
    "        job = backend.run( qc_U_N.decompose(reps=3), A )\n",
    "        obs.append( job.result().values[0] )\n",
    "    return obs "
   ]
  },
  {
   "cell_type": "code",
   "execution_count": 11,
   "metadata": {},
   "outputs": [
    {
     "data": {
      "text/plain": [
       "<matplotlib.legend.Legend at 0x2064c445e50>"
      ]
     },
     "execution_count": 11,
     "metadata": {},
     "output_type": "execute_result"
    },
    {
     "data": {
      "image/png": "[encoded data removed]",
      "text/plain": [
       "<Figure size 640x480 with 1 Axes>"
      ]
     },
     "metadata": {},
     "output_type": "display_data"
    }
   ],
   "source": [
    "qc_U = QuantumCircuit(2)\n",
    "qc_U.h(0)\n",
    "qc_U.cx(0,1)\n",
    "qc_U.sdg(1)\n",
    "Ns = [ 0, 1, 2, 3, 4 ]\n",
    "obs = np.mean([ simulacion( qc_U, Ns ) for _ in range(10) ], axis=0)\n",
    "plt.plot( Ns, obs, '-o' ) \n",
    "plt.hlines( -3, 0, 4, linestyles='--', color='tab:orange' )\n",
    "plt.xlabel('Pliegues')\n",
    "plt.ylabel(r'$\\langle A \\rangle$')\n",
    "plt.legend(['Datos ruidosos', 'Dato sin ruido'])"
   ]
  },
  {
   "cell_type": "markdown",
   "metadata": {},
   "source": [
    "Gracias a esto se puede realizar un extrapolación y obtener un estimador de $\\langle A\\rangle$ \"sin ruido\". La extrapolación más simple es la lineal, la cual toma estimadores ruidosos $\\{ \\langle A_N\\rangle \\}$ de circuitos con $N$ pliegues y supone que\n",
    "$$ \\langle A_N\\rangle \\approx a ( 2N+1) + b .$$ \n",
    "Luego, mediente interpolación por minimos cuadrados se encuentran los parametros $a$ y $b$. El estimador sin ruido es dado por\n",
    "$$ \\langle A\\rangle \\approx b .$$\n",
    "\n",
    "![fit](https://raw.githubusercontent.com/MIROptics/ECC2025/refs/heads/master/desafios/img/fig_ZNE_fit.png?raw=true)\n",
    "\n",
    "__Desafio:__ Complete la siguiente función que realiza el ajuste de los parametros $a$ y $b$. Puede ayudarse de funciones de otras librerias como ``numpy`` o ``scipy``.  "
   ]
  },
  {
   "cell_type": "code",
   "execution_count": 12,
   "metadata": {},
   "outputs": [],
   "source": [
    "def extrapolation( Ns, obs ):\n",
    "\n",
    "    a = 0\n",
    "    b = 0\n",
    "\n",
    "    #### Escriba su solución aca ######\n",
    "\n",
    "    ###################################\n",
    "\n",
    "    return a, b"
   ]
  },
  {
   "cell_type": "markdown",
   "metadata": {},
   "source": [
    "Con la siguiente celda podemos ver como funciona nuestra extrapolación."
   ]
  },
  {
   "cell_type": "code",
   "execution_count": 13,
   "metadata": {},
   "outputs": [
    {
     "data": {
      "text/plain": [
       "<matplotlib.legend.Legend at 0x2064c5b54c0>"
      ]
     },
     "execution_count": 13,
     "metadata": {},
     "output_type": "execute_result"
    },
    {
     "data": {
      "image/png": "[encoded data removed]",
      "text/plain": [
       "<Figure size 640x480 with 1 Axes>"
      ]
     },
     "metadata": {},
     "output_type": "display_data"
    }
   ],
   "source": [
    "a, b = extrapolation( Ns, obs )\n",
    "x = np.arange(0,np.max(2*np.array(Ns)+1)+1)\n",
    "y = a * x + b \n",
    "plt.plot( 2*np.array(Ns)+1, obs, 'o' ) \n",
    "plt.plot( x, y )\n",
    "plt.plot( [0], [b], 'o' )\n",
    "plt.hlines( -3, 0, 9, linestyles='--', color='tab:red' )\n",
    "plt.xlabel('Ruido')\n",
    "plt.ylabel(r'$\\langle A\\rangle$')\n",
    "plt.legend(['Datos ruidosos', 'Ajuste', 'ZNE','Dato sin ruido' ] )\n",
    "# plt.savefig('fig_ZNE_fit.png')"
   ]
  },
  {
   "cell_type": "code",
   "execution_count": null,
   "metadata": {},
   "outputs": [],
   "source": [
    "test_2c( extrapolation, A, Ns, folding )"
   ]
  },
  {
   "cell_type": "markdown",
   "metadata": {},
   "source": [
    "El estudio e implementación de métodos de mitigación de errores es un campo activo de investigación. En particular, Qiskit ya tiene integradas varias técnicas de <a href='https://docs.quantum.ibm.com/guides/error-mitigation-and-suppression-techniques'>mitigación y supresión de errores</a>. Más aún, existe una libreria exclusivamente dedicada a la mitigación de errores llamada <a href='https://mitiq.readthedocs.io/en/stable/index.html'>mitiq</a>. Esta libreria es no solo compatible con Qiskit, si no que también con otros lenguajes para controlar computadores cuánticos como Pennylane o Cirq."
   ]
  },
  {
   "cell_type": "code",
   "execution_count": null,
   "metadata": {},
   "outputs": [],
   "source": []
  }
 ],
 "metadata": {
  "kernelspec": {
   "display_name": "ecc2025",
   "language": "python",
   "name": "python3"
  },
  "language_info": {
   "codemirror_mode": {
    "name": "ipython",
    "version": 3
   },
   "file_extension": ".py",
   "mimetype": "text/x-python",
   "name": "python",
   "nbconvert_exporter": "python",
   "pygments_lexer": "ipython3",
   "version": "3.12.8"
  }
 },
 "nbformat": 4,
 "nbformat_minor": 2
}
