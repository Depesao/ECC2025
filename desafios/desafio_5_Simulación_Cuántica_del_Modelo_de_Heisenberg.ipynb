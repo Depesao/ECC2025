{
 "cells": [
  {
   "cell_type": "code",
   "execution_count": null,
   "metadata": {},
   "outputs": [],
   "source": [
    "pip install git+https://github.com/MIROptics/ECC2025.git"
   ]
  },
  {
   "cell_type": "code",
   "execution_count": 1,
   "metadata": {},
   "outputs": [],
   "source": [
    "import numpy as np\n",
    "from qiskit import QuantumCircuit, QuantumRegister\n",
    "from scipy.linalg import expm\n",
    "from qiskit.circuit import Parameter\n",
    "from qiskit.quantum_info import SparsePauliOp, Operator, process_fidelity\n",
    "from ECC2025.testing import test_5"
   ]
  },
  {
   "cell_type": "markdown",
   "metadata": {},
   "source": [
    "La formula de Trotter permite aproximar la evolución de un Hamiltoniano,\n",
    "$$H = \\sum_j H_j $$\n",
    "mediante un producto de evoluciones rápidas,\n",
    "$$ U(t) \\approx \\left(  \\prod_j e^{-it H_j/m} \\right)^m.$$\n",
    "La calidad de esta aproximación depende del número de pasos $m$. La formula de Trotter tiene aplicaciones en simulación de materiales, hasta resolución de ecuaciones diferenciales. Para estas aplicaciones es fundamental tener una solución de buena calidad, lo cual puede lograrse aumentando el valor de $m$. Sin embargo, existen otras estrategías que pueden mejorar la calidad sin aumentar los pasos de Trotter. La clave es darse cuenta distintas permutaciones de los operadores $H_j$ dan distintas aproximaciones. Consideremos el siguiente ejemplo\n",
    "$$ H = X + Y + Z ,$$\n",
    "donde $\\{X,Y,Z\\}$ son matrices de Pauli. Las dos siguientes transformaciones son approximaciones válidad de $U=e^{-itH}$ (con $m=1$),\n",
    "$$ U_1 = e^{-itX}e^{-itY}e^{-itZ},\\qquad U_2 = e^{-itZ}e^{-itY}e^{-itX}. $$\n",
    "Sin embargo, estas aproximaciones no tienen la misma calidad."
   ]
  },
  {
   "cell_type": "code",
   "execution_count": 2,
   "metadata": {},
   "outputs": [],
   "source": [
    "H = SparsePauliOp.from_list( [('X',1),('Y',1),('Z',1)] )\n",
    "def U(t):\n",
    "    return expm( -1j*H.to_matrix()*t )\n",
    "\n",
    "t = Parameter('t')\n",
    "m = 1 "
   ]
  },
  {
   "cell_type": "code",
   "execution_count": null,
   "metadata": {},
   "outputs": [],
   "source": [
    "qc = QuantumCircuit(1)\n",
    "for _ in range(m):\n",
    "    qc.rx( 2*t/m, 0 )\n",
    "    qc.ry( 2*t/m, 0 )\n",
    "    qc.rz( 2*t/m, 0 )\n",
    "\n",
    "U_1 = Operator( qc.assign_parameters([0.2]) )\n",
    "process_fidelity( U_1, target=Operator(U(0.2)) )"
   ]
  },
  {
   "cell_type": "code",
   "execution_count": null,
   "metadata": {},
   "outputs": [],
   "source": [
    "qc = QuantumCircuit(1)\n",
    "for _ in range(m):\n",
    "    qc.rz( 2*t/m, 0 )\n",
    "    qc.ry( 2*t/m, 0 )\n",
    "    qc.rx( 2*t/m, 0 )\n",
    "\n",
    "U_2 = Operator( qc.assign_parameters([0.2]) )\n",
    "process_fidelity( U_2, target=Operator(U(0.2)) )"
   ]
  },
  {
   "cell_type": "markdown",
   "metadata": {},
   "source": [
    "Podemos ver que $U_1$ tiene una fidelidad del $99.49\\%$ y $U_2$ del $99.57\\%$, es decir $U_2$ es mejor! Hacer una buena elección en el orden del producto es crucial para alcanzar una buena aproximación en un número alto de qubits. "
   ]
  },
  {
   "cell_type": "markdown",
   "metadata": {},
   "source": [
    "Consideremos ahora el modelo de Heisenberg, descrito por el siguiente Hamiltoniano\n",
    "$$H = \\sum_{j=0}^{N-2} \\left( X_jX_{j+1} + Y_{j}Y_{j+1} + Z_jZ_{j+1} \\right) + h\\sum_{j=0}^{N-1}Z_j. $$ \n",
    "Este describe la interacción magnética de una cadena de $N$ spíns en presencia de un campo magnético externo $h$. Cada spín es representado por un qubit, siendo $|0\\rangle$ el spín arriba y $|1\\rangle$ el spín abajo. Cuando todos los spín están alienados decimos que el sistema exhibe magnetización.\n",
    "\n",
    "![](https://raw.githubusercontent.com/MIROptics/ECC2025/refs/heads/master/desafios/img/ECC_heisenberg.png?raw=true)\n",
    "\n",
    "__Desafío:__ Aproxime mediante la formula de Trotter la evolución del modelo de Heisenberg para $N=5$ qubits. Para esto complete el circuito ```Trot_tb_qc``` para que implemente __un paso__ de approximación de Trotter. Su solución debe tener una fidelidad superior al $90\\%$ con $m=5$ pasos de Trotter. Por simplicidad considere $h=0$. "
   ]
  },
  {
   "cell_type": "code",
   "execution_count": null,
   "metadata": {},
   "outputs": [],
   "source": [
    "num_qubits = 5\n",
    "\n",
    "# Definimos el parámetro t\n",
    "t = Parameter('t')\n",
    "Trot_tb_qr = QuantumRegister(num_qubits, 'q')\n",
    "Trot_tb_qc = QuantumCircuit(Trot_tb_qr, name='Trot')\n",
    "\n",
    "### Escriba su solución acá ###\n",
    "\n",
    "################################\n",
    "\n",
    "Trot_tb_gate = Trot_tb_qc.to_instruction()\n",
    "\n",
    "Trot_tb_qc.draw('mpl')"
   ]
  },
  {
   "cell_type": "code",
   "execution_count": 9,
   "metadata": {},
   "outputs": [],
   "source": [
    "def U_trotterize(delta_t, trotter_steps):\n",
    "    qr = QuantumRegister(num_qubits)\n",
    "    qc = QuantumCircuit(qr)\n",
    "\n",
    "    for step in range(trotter_steps):\n",
    "        qc.append( Trot_tb_gate, list(range(num_qubits)) )\n",
    "\n",
    "    if qc.num_parameters > 0 :    \n",
    "        qc = qc.assign_parameters({t: delta_t })\n",
    "    \n",
    "    return qc"
   ]
  },
  {
   "cell_type": "code",
   "execution_count": null,
   "metadata": {},
   "outputs": [],
   "source": [
    "test_5( U_trotterize )"
   ]
  },
  {
   "cell_type": "code",
   "execution_count": null,
   "metadata": {},
   "outputs": [],
   "source": []
  }
 ],
 "metadata": {
  "kernelspec": {
   "display_name": "ECC2025",
   "language": "python",
   "name": "python3"
  },
  "language_info": {
   "codemirror_mode": {
    "name": "ipython",
    "version": 3
   },
   "file_extension": ".py",
   "mimetype": "text/x-python",
   "name": "python",
   "nbconvert_exporter": "python",
   "pygments_lexer": "ipython3",
   "version": "3.12.6"
  }
 },
 "nbformat": 4,
 "nbformat_minor": 2
}
