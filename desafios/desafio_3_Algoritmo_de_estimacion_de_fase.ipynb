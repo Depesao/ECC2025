{
  "cells": [
    {
      "cell_type": "code",
      "execution_count": null,
      "metadata": {
        "colab": {
          "base_uri": "https://localhost:8080/"
        },
        "collapsed": true,
        "id": "GZi2WH_pYixC",
        "outputId": "438a20b0-dc25-4ade-8d31-573745a76088"
      },
      "outputs": [],
      "source": [
        "pip install git+https://github.com/MIROptics/ECC2025.git"
      ]
    },
    {
      "cell_type": "code",
      "execution_count": 5,
      "metadata": {
        "id": "eDSxfPT-Yf1G"
      },
      "outputs": [],
      "source": [
        "import numpy as np\n",
        "from qiskit import QuantumCircuit\n",
        "from qiskit_aer import AerSimulator\n",
        "from qiskit.visualization import plot_histogram\n",
        "from ECC2025.testing import test_3a, test_3b, test_3c"
      ]
    },
    {
      "cell_type": "markdown",
      "metadata": {
        "id": "sSBh0OG_pw55"
      },
      "source": [
        "### Algoritmo de Shor"
      ]
    },
    {
      "cell_type": "markdown",
      "metadata": {
        "id": "PqJREMTip7Oc"
      },
      "source": [
        "El **algoritmo de Shor** es uno de los algoritmos cuánticos más conocidos. Publicado en 1994 por Peter Shor en su artículo [Algorithms for Quantum Computation: Discrete Logarithms and Factoring](https://doi.org/10.1109%2Fsfcs.1994.365700), su importancia recae en su utilidad para factorizar, ya sea números primos u otras estructuras que poseen estructura similar,  y **resolver el problema del logaritmo discreto en un tiempo polinomial**, una mejora considerable del tiempo subexponencial de los mejores algoritmos clásicos. Como los protocolos criptográficos de clave pública más utilizados actualmente (RSA, Diffie-Hellman, Curvas elípticas) están basados en la dificultad de resolver el problema del logaritmo discreto en computadores clásicos, si se llegara poder implementar el algoritmo de Shor en una cantidad considerable de qubits, estos protocolos criptográficos quedarían obsoletos.\n",
        "\n",
        "La cantidad necesaria aproximada para romper una clave RSA de 2048 bits con el algoritmo de Shor es de 4000 qubits lógicos, una cantidad que sin tener corrección de errores se ve difícil de alcanzar en el corto plazo, aún así las empresas de ciberseguridad y gobiernos están proponiendo cambios y nuevas estandarizaciones para hacer frente a la posibilidad de poder implementarlo."
      ]
    },
    {
      "cell_type": "markdown",
      "metadata": {
        "id": "IeX7AqNwtfaS"
      },
      "source": [
        "### Transformada Cuántica de Fourier"
      ]
    },
    {
      "cell_type": "markdown",
      "metadata": {
        "id": "i647JWXUYf1H"
      },
      "source": [
        "La subrutina más importante del algoritmo de Shor es el algoritmo de estimación de fase, y para implementar este algoritmo, primero necesitamos la **transformada cuántica de Fourier** (QFT, Quantum Fourier Transform). La QFT es la versión cuántica de la **transformada discreta de Fourier**, que actúa sobre los amplitudes de probabilidad de un estado cuántico. Esta operación permite transformar un estado cuántico de tal manera que las frecuencias de las componentes de la superposición puedan ser extraídas con mayor facilidad.\n",
        "\n",
        "Matemáticamente, la transformada cuántica de Fourier para un estado cuántico $|x\\rangle$ de $n$ qubits es una superposición de los estados $|y\\rangle$, dada por la expresión:\n",
        "\\begin{equation}\n",
        "|x\\rangle \\mapsto \\frac{1}{\\sqrt{2^n}} \\sum_{y=0}^{2^n - 1} e^{2\\pi i \\frac{xy}{2^n}} |y\\rangle,\n",
        "\\end{equation}\n",
        "\n",
        "Lo que está representado por el siguiente circuito:\n",
        "\n",
        "![circuit](https://raw.githubusercontent.com/MIROptics/ECC2025/refs/heads/master/desafios/img/ECC25_QFT.png?raw=true)"
      ]
    },
    {
      "cell_type": "markdown",
      "metadata": {
        "id": "hiiCuRumYf1J"
      },
      "source": [
        "Como nuestro objetivo final es implementar el algoritmo de estimación de fase, comenzaremos creando una función para implementar la transformada cuántica de Fourier.\n",
        "\n",
        "__Desafío:__ Cree una función llamada ``Fourier(n)`` cuyo argumento es el número de qubits $n$ y que retorne el circuito cuántico de la transformada de Fourier de $n$ qubits."
      ]
    },
    {
      "cell_type": "code",
      "execution_count": 2,
      "metadata": {
        "id": "fwQAbKjNYf1J"
      },
      "outputs": [],
      "source": [
        "def Fourier(n):\n",
        "    \"\"\"\n",
        "    n : Numero de qubits\n",
        "    \"\"\"\n",
        "    qc = QuantumCircuit(n)\n",
        "\n",
        "    ## Escribe tu codigo acá ###\n",
        "\n",
        "    ######\n",
        "\n",
        "    return qc\n"
      ]
    },
    {
      "cell_type": "code",
      "execution_count": 3,
      "metadata": {
        "id": "b7zkBihjoleN"
      },
      "outputs": [],
      "source": [
        "qc = Fourier( 4 )"
      ]
    },
    {
      "cell_type": "code",
      "execution_count": null,
      "metadata": {
        "id": "BpSstSvCYf1L"
      },
      "outputs": [],
      "source": [
        "test_3a( Fourier )"
      ]
    },
    {
      "cell_type": "markdown",
      "metadata": {
        "id": "kbdp9x1v7X0v"
      },
      "source": [
        "### Potencia de una operación unitaria"
      ]
    },
    {
      "cell_type": "markdown",
      "metadata": {
        "id": "pU5xNNRaoleN"
      },
      "source": [
        "En concreto, la transformada cuántica de Fourier es utilizada por el algoritmo de estimación de fase para estimar una fase codificada en una **operación unitaria** $U$. El algoritmo necesita aplicar potencias de $U$ en la forma $U^{m}$  para poder extraer la información de la fase con precisión. Estas potencias permiten construir una superposición que, cuando se combina con la QFT, revela la fase asociada a un autovector de $U$.\n",
        "\n",
        "Crearemos ahora la función que construye $U^{m}$ con un $\\phi$ especifico para poder utilizarla en nuestra implementación más adelante.\n",
        "\n",
        "__Desafío:__ Complete la siguiente función para que implente el circuito de $U^m$ controlada, donde\n",
        "\\begin{equation}\n",
        "U = \\begin{pmatrix} 1 & 0 \\\\ 0 & e^{2\\pi i\\phi} \\end{pmatrix},\n",
        "\\end{equation}\n",
        "con $\\phi = 0.375$.\n",
        "\n",
        "HINT: Busque la puerta cuántica \"control-phase\"."
      ]
    },
    {
      "cell_type": "code",
      "execution_count": 7,
      "metadata": {
        "id": "QkLjSkzxoleN"
      },
      "outputs": [],
      "source": [
        "def U_to_n( power ):\n",
        "    \"\"\"\n",
        "    power : potencia a la que elevar U\n",
        "    \"\"\"\n",
        "    qc = QuantumCircuit( 2 )\n",
        "    ###\n",
        "\n",
        "    ###\n",
        "    return qc"
      ]
    },
    {
      "cell_type": "code",
      "execution_count": null,
      "metadata": {
        "id": "6yGcjy4loleO"
      },
      "outputs": [],
      "source": [
        "test_3b( U_to_n )"
      ]
    },
    {
      "cell_type": "markdown",
      "metadata": {
        "id": "fneV-Tar7gGG"
      },
      "source": [
        "### Algoritmo de estimación de fase"
      ]
    },
    {
      "cell_type": "markdown",
      "metadata": {
        "id": "a4awL7nE8N9m"
      },
      "source": [
        "Dada una operación unitaria $U$ y un autovector $|\\psi\\rangle$, el **algoritmo de estimación de fase** permite estimar con una alta precisión la fase $\\phi$ asociada al autovalor de $|\\psi\\rangle$, es decir $\\phi$ tal que:\n",
        "\\begin{equation}\n",
        "U|\\psi\\rangle=e^{2\\pi i\\phi}|\\psi\\rangle.\n",
        "\\end{equation}\n",
        "\n",
        "El proceso consiste en:\n",
        "\n",
        "\n",
        "1.   Preparar un sistema de $n$ qubits auxiliares en estado de superposición y un qubit en el estado $|\\psi\\rangle$.\n",
        "2.   Aplicar las potencias de la operación unitaria, $U^{m}$, a $|\\psi\\rangle$ de forma controlada para codificar la fase en los qubits auxiliares.\n",
        "3. Ejecutar la transformada cuántica de Fourier inversa en los qubits auxiliares.\n",
        "4. Medir los qubits auxiliares para obtener el resultado binario que nos dará la estimación de la fase $\\phi$.\n",
        "\n",
        "Ahora, como anteriormente ya creamos la función para implementar la QFT y $U^{m}$, llegó el momento de implementar el algoritmo de estimación de fase para nuestro caso particular de $\\phi$.\n",
        "\n"
      ]
    },
    {
      "cell_type": "markdown",
      "metadata": {
        "id": "0kaoRPtBoleO"
      },
      "source": [
        "__Desafío:__ Utilice las funciones anteriores para completar la siguiente función que implementa el algoritmo de estimación de fase, es decir, el siguiente circuito. Note que IQFT es la operación inversa de la transformada de Fourier.\n",
        "\n",
        "![circuito](https://raw.githubusercontent.com/MIROptics/ECC2025/refs/heads/master/desafios/img/ECC25_QPE.png?raw=true)"
      ]
    },
    {
      "cell_type": "code",
      "execution_count": 10,
      "metadata": {
        "id": "VsHzpmHVoleO"
      },
      "outputs": [],
      "source": [
        "def QuantumPhaseEstimation( n ):\n",
        "    \"\"\"\n",
        "    n : Numero de qubits\n",
        "    \"\"\"\n",
        "    qc = QuantumCircuit( n+1, n )\n",
        "\n",
        "    ########\n",
        "\n",
        "    #######\n",
        "    qc.measure( range(n), range(n) )\n",
        "\n",
        "    return qc\n"
      ]
    },
    {
      "cell_type": "code",
      "execution_count": 11,
      "metadata": {
        "id": "0J-3D0mColeP"
      },
      "outputs": [
        {
          "data": {
            "image/png": "[encoded data removed]",
            "text/plain": [
              "<Figure size 2210.55x953.167 with 1 Axes>"
            ]
          },
          "execution_count": 11,
          "metadata": {},
          "output_type": "execute_result"
        }
      ],
      "source": [
        "qc = QuantumPhaseEstimation(3)\n",
        "qc.draw('mpl')"
      ]
    },
    {
      "cell_type": "markdown",
      "metadata": {
        "id": "vyFnagp7oleP"
      },
      "source": [
        "Si sus funciones están correctas, al simular la ejecucción del circuito se debería obtener el resultado $0110\\cdots0$ con mayor probabilidad, para un número de qubits $n\\geq 3$. Esto es porque el ángulo estimado por el algoritmo es\n",
        "\\begin{equation}\n",
        "    \\tilde\\phi = \\frac{\\text{Int}(0110\\cdots0)}{2^n} = \\frac{2^{n-2}+2^{n-3}}{2^n} = 0.375\n",
        "\\end{equation}\n",
        "\n",
        "que es el $\\phi$ que utilizamos cuando creamos la función para obtener $U^{m}$."
      ]
    },
    {
      "cell_type": "code",
      "execution_count": 12,
      "metadata": {
        "id": "yDkGRwyQoleP"
      },
      "outputs": [
        {
          "data": {
            "image/png": "[encoded data removed]",
            "text/plain": [
              "<Figure size 640x480 with 1 Axes>"
            ]
          },
          "execution_count": 12,
          "metadata": {},
          "output_type": "execute_result"
        }
      ],
      "source": [
        "backend = AerSimulator()\n",
        "job = backend.run( qc )\n",
        "counts = job.result().get_counts()\n",
        "plot_histogram( counts )"
      ]
    },
    {
      "cell_type": "code",
      "execution_count": null,
      "metadata": {
        "id": "EQyN1VmooleP"
      },
      "outputs": [],
      "source": [
        "test_3c( QuantumPhaseEstimation )"
      ]
    },
    {
      "cell_type": "code",
      "execution_count": null,
      "metadata": {},
      "outputs": [],
      "source": []
    }
  ],
  "metadata": {
    "colab": {
      "provenance": []
    },
    "kernelspec": {
      "display_name": "ECC2025",
      "language": "python",
      "name": "python3"
    },
    "language_info": {
      "codemirror_mode": {
        "name": "ipython",
        "version": 3
      },
      "file_extension": ".py",
      "mimetype": "text/x-python",
      "name": "python",
      "nbconvert_exporter": "python",
      "pygments_lexer": "ipython3",
      "version": "3.12.6"
    }
  },
  "nbformat": 4,
  "nbformat_minor": 0
}
