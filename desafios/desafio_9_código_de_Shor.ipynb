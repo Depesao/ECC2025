{
 "cells": [
  {
   "cell_type": "code",
   "execution_count": null,
   "metadata": {},
   "outputs": [],
   "source": [
    "pip install -U git+https://github.com/MIROptics/ECC2025.git "
   ]
  },
  {
   "cell_type": "code",
   "execution_count": 15,
   "metadata": {},
   "outputs": [],
   "source": [
    "import numpy as np \n",
    "import matplotlib.pyplot as plt \n",
    "from qiskit import QuantumCircuit, ClassicalRegister, QuantumRegister\n",
    "from qiskit_aer import AerSimulator\n",
    "from qiskit_ibm_runtime.fake_provider import FakeRochesterV2 \n",
    "from qiskit import transpile \n",
    "\n",
    "from ECC2025.testing import test_9a, test_9b, test_9c"
   ]
  },
  {
   "cell_type": "markdown",
   "metadata": {},
   "source": [
    "\n",
    "Los computadores cuánticos son muy susceptibles a error debido. Interacciones no deseadas con el ambiente causan __decoherecia__, donde la información codificada en los qubits se fuga hacia el ambiante. Debido a esto, los dispositivos cuánticos nunca son perfectos y las operaciones cuánticas se implementan con una precision limitada. Para algoritmos cuánticos que requieren miles de puertas cuánticas, esta carencia de presicion se acumula provocando que nuestros resultados se alejen de los esperados. Los __códigos de corrección de errores__ asoman como una alternativa para reducir el impacto de estos errores y escalar computadores cuánticos. Estos se basan en codificar estados cuánticos en qubits lógicos, los cuales son conjuntos de qubits físicos. A través de medidas adecuadas sobre esto qubits lógicos podemos detectar la presencia de un error para posteriormente corregirlo. Esta capa de correción se hará después de cada operación en un circuito. La siguiente figura muestra como sería un circuito cuántico para preparar un estado de Bell de 2 qubit lógicos compuestos de 7 qubits físicos:\n",
    "\n",
    "![](https://raw.githubusercontent.com/MIROptics/ECC2025/refs/heads/master/desafios/img/FT_circuit.JPG)\n",
    "\n",
    "Actualmente, muchas empresas buscan gente con formación en computación cuántica, y en particular en corrección de errores. Acá les dejamos una lista de algunas ofertas de trabajo para gente con conocimiento en corrección de errores.\n",
    "\n",
    "[Riverlane](https://apply.workable.com/riverlane/j/A3F2E83879/)\n",
    "\n",
    "[Parityqc](https://parityqc.com/careers)\n",
    "\n",
    "[Alice and Bob](https://jobs.lever.co/alice-bob/20069b63-d959-4fa5-97b1-1ab735fcb9f7)\n",
    "\n",
    "[Ionq](https://ionq.com/careers/5184966004)\n",
    "\n",
    "[Psiquantum](https://www.psiquantum.com/apply?gh_jid=6036325003)\n",
    "\n",
    "[Rigetti](https://jobs.lever.co/rigetti/81625806-e88c-4985-9158-547536e56a06)\n",
    "\n",
    "[Quantinuum](https://jobs.eu.lever.co/quantinuum/f8eb483f-7d90-454b-bfdd-77a1f7f3cc71)\n",
    "\n",
    "[QuEra Computing](https://job-boards.greenhouse.io/queracomputinginc/jobs/4180052008)\n",
    "\n",
    "En este desafio implementaremos el __código de corrección de errores de 9 qubits__ propuesto por Peter Shor en 1995."
   ]
  },
  {
   "cell_type": "markdown",
   "metadata": {},
   "source": [
    "Empezaremos con el código de 3-qubits para mitigar errores de bit-flip. Consideremos el estado de 1 qubit\n",
    "$$ |\\psi\\rangle = \\alpha |0\\rangle + \\beta|1\\rangle.$$\n",
    "Decimos que este estado sufrió un error de bit-flip si el estado es negado, es decir,\n",
    "$$ X|\\psi\\rangle = \\beta |0\\rangle + \\alpha|1\\rangle.$$\n",
    "Para proteger el estado $|\\psi\\rangle $ contra este error se realiza la siguiente codificación en 3 qubits,\n",
    "$$ |\\psi'\\rangle = \\alpha |000\\rangle + \\beta|111\\rangle. $$\n",
    "Para detectar un bit-flip debemos medir los observables $IZZ$ y $ZZI$, con $Z=|0\\rangle\\langle0|-|1\\rangle\\langle1|$. A esto se le conoce como __medidas estabilizadoras__. Los resultado de las medidas estabilizadoras nos permiter detectar errores de bit-flip:\n",
    "\n",
    "1) $\\langle IZZ\\rangle=1$ y $\\langle ZZI\\rangle=1$, no hay error.\n",
    "\n",
    "2) $\\langle IZZ\\rangle=1$ y $\\langle ZZI\\rangle=-1$, el tercer qubit tuvo bit flip.\n",
    "\n",
    "3) $\\langle IZZ\\rangle=-1$ y $\\langle ZZI\\rangle=1$, el primer qubit tuvo bit flip.\n",
    "\n",
    "4) $\\langle IZZ\\rangle=-1$ y $\\langle ZZI\\rangle=-1$, el segundo qubit tuvo bit flip.\n",
    "\n",
    "Esta medida puede ser implementada sin alterar el estado $|\\psi'\\rangle$ con 2 qubits auxiliares, uno por cada medida estabilizadora ($clbit_0$ para $IZZ$ y $clbit_1$ para $ZZI$). Posteriormente podemos corregir los errors aplicando puertas $X$ dependiendo del resultado de la medida estabilizadora:\n",
    "\n",
    "1) Si obtenemos $|00\\rangle$, no se aplica ninguna corrección.\n",
    "\n",
    "2) Si obtenemos $|01\\rangle$, se aplica una $X$ en el tercer qubit. \n",
    "\n",
    "3) Si obtenemos $|10\\rangle$, se aplica una $X$ en el primer qubit\n",
    "\n",
    "4) Si obtenemos $|11\\rangle$, se aplica una $X$ en el segundo qubit.\n",
    "\n",
    "\n",
    " A continuación el circuito que implementa este código:\n",
    "\n",
    "![](https://raw.githubusercontent.com/MIROptics/ECC2025/refs/heads/master/desafios/img/ECC25_bit_code.png?raw=true)"
   ]
  },
  {
   "cell_type": "markdown",
   "metadata": {},
   "source": [
    "__Desafio:__ Complete la siguiente función llamada ``flip_code`` para que implemente el circuito anterior. La función tiene el argumento ``error``, el cual es un circuito para introducir el bit flip. Este debe estar en la posición de la barrera. La corrección debe realizarse a través de la función ``QuantumCircuit.if_test``, la cual permite implementar puerta controladas clasicamente. A continuación un ejemplo:"
   ]
  },
  {
   "cell_type": "code",
   "execution_count": null,
   "metadata": {},
   "outputs": [],
   "source": [
    "qr = QuantumRegister(1, 'q')\n",
    "cr = ClassicalRegister(1, 'c')\n",
    "qc = QuantumCircuit(qr,cr)\n",
    "qc.measure(qr,cr)\n",
    "\n",
    "with qc.if_test( (cr,0) ): \n",
    "        qc.x(0)\n",
    "\n",
    "qc.draw('mpl') "
   ]
  },
  {
   "cell_type": "code",
   "execution_count": null,
   "metadata": {},
   "outputs": [],
   "source": [
    "def flip_code( error=None ):\n",
    "\n",
    "    qr = QuantumRegister(5, 'q')\n",
    "    cr = ClassicalRegister(2, 'c')\n",
    "    qc = QuantumCircuit( qr, cr )\n",
    "\n",
    "    if error is None:\n",
    "        error = QuantumCircuit( qr, cr )\n",
    "\n",
    "    ### Acá va la codificación\n",
    "\n",
    "    ### \n",
    "    qc.barrier()\n",
    "    qc.compose( error, inplace=True )\n",
    "    qc.barrier()    \n",
    "    ### Acá va la medida estabilizadora\n",
    "\n",
    "    ### Acá va el control clásico \n",
    "\n",
    "\n",
    "    return qc \n",
    "\n",
    "# Esto es un bit flip \n",
    "qr = QuantumRegister(5, 'q')\n",
    "cr = ClassicalRegister(2, 'c')\n",
    "error = QuantumCircuit( qr, cr )\n",
    "error.x(1)\n",
    "\n",
    "qc_flip = flip_code(error)\n",
    "qc_flip.draw('mpl',fold=-1) "
   ]
  },
  {
   "cell_type": "code",
   "execution_count": null,
   "metadata": {},
   "outputs": [],
   "source": [
    "test_9a( qc_flip )"
   ]
  },
  {
   "cell_type": "markdown",
   "metadata": {},
   "source": [
    "Con un código similar podemos corregir el error de phase flip, el cual se define como un cambio de signo en el estado, \n",
    "$$ Z|\\psi\\rangle =  \\alpha |0\\rangle - \\beta|1\\rangle.$$\n",
    "En este caso, la codificación es \n",
    "$$ |\\psi''\\rangle = \\alpha |+++\\rangle + \\beta|---\\rangle,$$\n",
    "donde $|\\pm\\rangle=(|0\\rangle\\pm|1\\rangle)/\\sqrt{2}$. La medida estabilizadora es $IXX$ y $XXI$, y la corrección se realiza con puertas $Z$ controladas clasicamente, similar al caso anterior:\n",
    "\n",
    "1) $\\langle IXX\\rangle=1$ y $\\langle XXI\\rangle=1$, no hay error.\n",
    "\n",
    "2) $\\langle IXX\\rangle=1$ y $\\langle XXI\\rangle=-1$, el tercer qubit tuvo phase flip.\n",
    "\n",
    "3) $\\langle IXX\\rangle=-1$ y $\\langle XXI\\rangle=1$, el primer qubit tuvo phase flip.\n",
    "\n",
    "4) $\\langle IXX\\rangle=-1$ y $\\langle XXI\\rangle=-1$, el segundo qubit tuvo phase flip.\n",
    "\n",
    "\n",
    "La correcciones vienen dadas por:\n",
    "\n",
    "1) Si obtenemos $|00\\rangle$, no se aplica ninguna corrección.\n",
    "\n",
    "2) Si obtenemos $|01\\rangle$, se aplica una $Z$ en el tercer qubit. \n",
    "\n",
    "3) Si obtenemos $|10\\rangle$, se aplica una $Z$ en el primer qubit\n",
    "\n",
    "4) Si obtenemos $|11\\rangle$, se aplica una $Z$ en el segundo qubit.\n",
    "\n",
    "Esto se implementa con el siguiente circuito:\n",
    "\n",
    "![](https://raw.githubusercontent.com/MIROptics/ECC2025/refs/heads/master/desafios/img/ECC25_phase_code.png?raw=true)"
   ]
  },
  {
   "cell_type": "markdown",
   "metadata": {},
   "source": [
    "__Desafio:__ Complete la siguiente función llamada ``phase_code`` para que implemente el circuito anterior. De forma análoga, el argumento ``error`` es un circuito que introduce un phase plip que debe estar en la posición de la barrera de la figura. "
   ]
  },
  {
   "cell_type": "code",
   "execution_count": null,
   "metadata": {},
   "outputs": [],
   "source": [
    "def phase_code( error=None ):\n",
    "\n",
    "    qr = QuantumRegister(5, 'q')\n",
    "    cr = ClassicalRegister(2, 'c')\n",
    "    qc = QuantumCircuit( qr, cr )\n",
    "\n",
    "    if error is None:\n",
    "        error = QuantumCircuit( qr, cr )\n",
    "\n",
    "    ### Acá va la codificación\n",
    "\n",
    "    ### \n",
    "    qc.barrier()\n",
    "    qc.compose( error, inplace=True )\n",
    "    qc.barrier()\n",
    "    ### Acá va la medida estabilizadora\n",
    "\n",
    "    ### Acá va el control clásico \n",
    "\n",
    "\n",
    "    return qc \n",
    "\n",
    "## Esto es un phase flip\n",
    "qr = QuantumRegister(5, 'q')\n",
    "cr = ClassicalRegister(2, 'c')\n",
    "error = QuantumCircuit( qr, cr )\n",
    "error.z(1)\n",
    "\n",
    "qc_phase = phase_code(error)\n",
    "qc_phase.draw('mpl', fold=-1) "
   ]
  },
  {
   "cell_type": "markdown",
   "metadata": {},
   "source": [
    "El código de Shor combina los código de bit y phase flip en un único circuito. Si omitimos las medidas intermedias y las puertas controladas clasicamente, este estada representado por el siguiente circuito:\n",
    "\n",
    "![](https://raw.githubusercontent.com/MIROptics/ECC2025/refs/heads/master/desafios/img/ECC25_shor_code.png?raw=true)"
   ]
  },
  {
   "cell_type": "markdown",
   "metadata": {},
   "source": [
    "La sección en amarillo representa la codificación del estado $|\\psi\\rangle$ en 9 qubits. Las secciones en rojo representan 3 bloques de código bit flip, mientras que la sección en verde es un código phase flip entre esos bloques. Las secciones en azul son un decoding-encoding, necesario para aplicar el código phase flip sin romper los códigos bit flip. En total 8 qubits auxiliares son utilizados para implementar las medidas estabilizadoras $\\{ ZZIIIIIII, IZZIIIIII, IIIZZIIII, IIIIZZIII, IIIIIIZZI, IIIIIIIZZ, XXXXXXIII, IIIXXXXXX\\}$. Debido a que todo error de 1 qubit puede descomponerse en una combinación de bit flip y phase flip, el código de Shor puede corregir un error arbitrario de 1 qubit.\n",
    "\n",
    "Notemos que en total se requieren 36 puertas CNOTs. Sin embargo, si combinamos las secciones en azul y verde podemos obtener un circuito equivalente que solo requiere 32 puertas CNOTs.\n",
    "\n",
    "__Desafio:__ Complete la siguiente función llamada ``shor_code`` para que implemente el circuito anterior, pero optimizado a 32 puertas CNOTs."
   ]
  },
  {
   "cell_type": "code",
   "execution_count": null,
   "metadata": {},
   "outputs": [],
   "source": [
    "def shor_code():\n",
    "\n",
    "    qr = QuantumRegister(17, 'q')\n",
    "    qc = QuantumCircuit( qr )\n",
    "\n",
    "    ### Acá va tu circuito\n",
    "\n",
    "\n",
    "    return qc \n",
    "\n",
    "qc_shor_code= shor_code()\n",
    "qc_shor_code.draw('mpl', fold=-1) "
   ]
  },
  {
   "cell_type": "code",
   "execution_count": null,
   "metadata": {},
   "outputs": [],
   "source": [
    "test_9b( qc_shor_code )"
   ]
  },
  {
   "cell_type": "markdown",
   "metadata": {},
   "source": [
    "Una observación importante es que el código de Shor no es infalible, pues a pesar de que nos protege de errores arbitrarios de 1 qubits, estos solo pueden pasar una vez. Si por ejemplo, el código de Shor no es capaz de detectar 2 bit flips entre qubits en un mismo bloque. Supongamos que $p$ es la probabilidad de que un error ocurra en cada qubit independientemente. Entonces, la probabilidad de que el código de Shor funcione es\n",
    "\n",
    "$$Pr(\\text{no error}) + Pr(\\text{1 error}) = (1-p)^9 + 9p(1-p)^8. $$ \n",
    "\n",
    "Sin el código, el circuito no es afectado por error con probabilidad $1-p$. De este modo, el código ayuda si\n",
    "\n",
    "$$ (1-p)^9 + 9p(1-p)^8 > 1-p .$$\n",
    "\n",
    "Estas dos funciones son graficadas en la siguiente celda."
   ]
  },
  {
   "cell_type": "code",
   "execution_count": null,
   "metadata": {},
   "outputs": [],
   "source": [
    "p = np.linspace(0,0.04,1000)\n",
    "prob_vanilla = 1 - p\n",
    "prob_shor    = (1-p)**9 +9*p*(1-p)**8\n",
    "plt.plot( p, prob_vanilla)\n",
    "plt.plot( p, prob_shor)\n",
    "plt.legend([r'$1 - p$', r'$(1-p)^9 + 9p(1-p)^8$'])\n",
    "plt.xlabel(r'$p$')"
   ]
  },
  {
   "cell_type": "markdown",
   "metadata": {},
   "source": [
    "Podemos ve que hay una region para $p\\leq0.30$ donde el código de Shor aumenta la probabilidad de que el circuito se ejecute correctamente. Sin embargo, para probabilidades de error mayor, el código de Shor funciona peor que el circuito sin corrección. Para estar en la región debemos reducir la probabilidad de error, y esto se logra optimizando el diseño y funcionamiento de los dipositivos cuánticos. Actualmente nos encontramos en la transición de la derecha de la intersección a la izquierda, y se espera que en los próximos años tengamos qubit lógicos resistentes a errores arbitrarios. "
   ]
  },
  {
   "cell_type": "markdown",
   "metadata": {},
   "source": [
    "Ahora mapearemos el código de Shor a un dispositivo cuántico para ver el qubit lógico. Consideresmos el siguiende dispositivo cuántico de 53 qubits:\n",
    "![](https://raw.githubusercontent.com/MIROptics/ECC2025/refs/heads/master/desafios/img/53-qubit-rochester-device-ibm-research.jpg?raw=true)"
   ]
  },
  {
   "cell_type": "code",
   "execution_count": 25,
   "metadata": {},
   "outputs": [],
   "source": [
    "from qiskit.transpiler.passes import RemoveBarriers\n",
    "\n",
    "real_backend = FakeRochesterV2()\n",
    "aer = AerSimulator()\n",
    "coupling_map = list( real_backend.coupling_map )\n",
    "basis_gates = [ 'h', 'u', 'cx', 'swap' ]\n",
    "\n",
    "def count_gates( shor_code, layout ):\n",
    "    qc_shor = shor_code()\n",
    "    qc_shor = RemoveBarriers()(qc_shor)\n",
    "    qc_transpiled = transpile( qc_shor, aer, basis_gates=basis_gates, \n",
    "                            coupling_map=real_backend.coupling_map, \n",
    "                            optimization_level=0 , seed_transpiler=0,\n",
    "                            initial_layout=layout )\n",
    "    return qc_transpiled.count_ops() \n",
    "    # qc_transpiled.draw('mpl', fold=-1)   "
   ]
  },
  {
   "cell_type": "markdown",
   "metadata": {},
   "source": [
    "Si el circuito mapeado al dispositivo cuántico contiene puertas ``cx`` entre qubits físicamente no conectado, es necesario introducir puertas ``swaps``. Estas permiten intercambiar el estado entre dos qubit, y requieren 3 puertas ``cx`` para ser implementadas. Veamos el número total de ``cx`` con el un mapeo trivíal, donde los qubit virtuales se mapean al los qubits físicos en la misma posición:"
   ]
  },
  {
   "cell_type": "code",
   "execution_count": null,
   "metadata": {},
   "outputs": [],
   "source": [
    "layout = [0,1,2,3,4,5,6,7,8,9,10,11,12,13,14,15,16]\n",
    "count_gates( shor_code, layout )"
   ]
  },
  {
   "cell_type": "markdown",
   "metadata": {},
   "source": [
    "Este número de ``cx`` no es óptimo y puede ser mejorado. Encontrar un mapeo óptimo es extremadamente dificil, pues el número de posibles mapeos de $n_{v}$ qubits virtuales a $n_{f}$ qubit físicos es gigantesco:\n",
    "\n",
    "$$ N_{var} = \\frac{n_{f}!}{(n_{f}-n_{v})!} = \\frac{53!}{(53-17)!} =  11491827880220132580495360000.$$\n",
    "\n",
    "Incluso si nos restringimos a $n_{v}$ qubits físicos, el número sigue siendo grande\n",
    "\n",
    "$$ N_{var} = \\frac{n_{v}!}{(n_{v}-n_{v})!} = 17! =  355687428096000.$$\n",
    "\n",
    "Por esto, la optimización de circuitos para dispositivos físicos es un problema muy relevante y ampliamente estudiado.\n",
    "\n",
    "__Desafio:__ Busque un mapeo de qubits virtuales, es decir los qubits de su circuito, a los qubits físicos del dispositivo cuántico anterior que utilize una cantidad de ``swap`` menor a 40. HINT: Intente que los qubits con más puertas ``cx`` esten juntos, y busque una distribución de qubit simétrica, sea horizontal, vertical o diagonal. "
   ]
  },
  {
   "cell_type": "code",
   "execution_count": null,
   "metadata": {},
   "outputs": [],
   "source": [
    "layout = [0,1,2,3,4,5,6,7,8,9,10,11,12,13,14,15,16] ## Esta es solo un opción de default\n",
    "\n",
    "count_gates( shor_code, layout ) "
   ]
  },
  {
   "cell_type": "code",
   "execution_count": null,
   "metadata": {},
   "outputs": [],
   "source": [
    "test_9c( shor_code, layout )"
   ]
  },
  {
   "cell_type": "code",
   "execution_count": null,
   "metadata": {},
   "outputs": [],
   "source": []
  }
 ],
 "metadata": {
  "kernelspec": {
   "display_name": "ecc2025",
   "language": "python",
   "name": "python3"
  },
  "language_info": {
   "codemirror_mode": {
    "name": "ipython",
    "version": 3
   },
   "file_extension": ".py",
   "mimetype": "text/x-python",
   "name": "python",
   "nbconvert_exporter": "python",
   "pygments_lexer": "ipython3",
   "version": "3.12.8"
  }
 },
 "nbformat": 4,
 "nbformat_minor": 2
}
